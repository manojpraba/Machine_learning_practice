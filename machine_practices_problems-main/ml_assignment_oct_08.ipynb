{
  "cells": [
    {
      "cell_type": "code",
      "execution_count": 1,
      "metadata": {
        "id": "ERbIM8EDu6_j"
      },
      "outputs": [],
      "source": [
        "#imports\n",
        "\n",
        "import pandas as pd\n",
        "from scipy.stats import linregress\n",
        "import seaborn as sns\n",
        "from sklearn.metrics import mean_absolute_error, mean_squared_error, r2_score\n",
        "import math\n",
        "import numpy as np\n",
        "import matplotlib.pyplot as plt"
      ]
    },
    {
      "cell_type": "markdown",
      "metadata": {
        "id": "s9d5jEiRvSmt"
      },
      "source": [
        "**Q. What is Linear Regression?**\n",
        "<br />\n",
        "<br />\n",
        "Ans. Linear regression model is used to estimates the relationship between **one dependent** & **one dependent quantative** variables.\n",
        "<br />\n",
        "<br />\n",
        "Eg: Some examples are...\n",
        "<ol>\n",
        "<li> Soil Erosion Vs water fall</li>\n",
        "<li> Height Vs Shoe size</li>\n",
        "</ol>\n"
      ]
    },
    {
      "cell_type": "code",
      "execution_count": 2,
      "metadata": {
        "id": "-Jhc0-2YxPPd"
      },
      "outputs": [],
      "source": [
        "# Linear regression example:\n",
        "df = pd.DataFrame([ \n",
        "    [165,36.5],\n",
        "    [168, 37], \n",
        "    [172, 39.5],\n",
        "    [174,37.5],\n",
        "    [170, 37.5],\n",
        "    [171,38], \n",
        "    [164,36], \n",
        "    [173, 38.5],\n",
        "    [169, 37],\n",
        "    [163, 37]\n",
        "    ], columns=['Height', 'ShoeSize'])"
      ]
    },
    {
      "cell_type": "code",
      "execution_count": 3,
      "metadata": {},
      "outputs": [
        {
          "data": {
            "text/html": [
              "<div>\n",
              "<style scoped>\n",
              "    .dataframe tbody tr th:only-of-type {\n",
              "        vertical-align: middle;\n",
              "    }\n",
              "\n",
              "    .dataframe tbody tr th {\n",
              "        vertical-align: top;\n",
              "    }\n",
              "\n",
              "    .dataframe thead th {\n",
              "        text-align: right;\n",
              "    }\n",
              "</style>\n",
              "<table border=\"1\" class=\"dataframe\">\n",
              "  <thead>\n",
              "    <tr style=\"text-align: right;\">\n",
              "      <th></th>\n",
              "      <th>Height</th>\n",
              "      <th>ShoeSize</th>\n",
              "    </tr>\n",
              "  </thead>\n",
              "  <tbody>\n",
              "    <tr>\n",
              "      <th>0</th>\n",
              "      <td>165</td>\n",
              "      <td>36.5</td>\n",
              "    </tr>\n",
              "    <tr>\n",
              "      <th>1</th>\n",
              "      <td>168</td>\n",
              "      <td>37.0</td>\n",
              "    </tr>\n",
              "    <tr>\n",
              "      <th>2</th>\n",
              "      <td>172</td>\n",
              "      <td>39.5</td>\n",
              "    </tr>\n",
              "    <tr>\n",
              "      <th>3</th>\n",
              "      <td>174</td>\n",
              "      <td>37.5</td>\n",
              "    </tr>\n",
              "    <tr>\n",
              "      <th>4</th>\n",
              "      <td>170</td>\n",
              "      <td>37.5</td>\n",
              "    </tr>\n",
              "    <tr>\n",
              "      <th>5</th>\n",
              "      <td>171</td>\n",
              "      <td>38.0</td>\n",
              "    </tr>\n",
              "    <tr>\n",
              "      <th>6</th>\n",
              "      <td>164</td>\n",
              "      <td>36.0</td>\n",
              "    </tr>\n",
              "    <tr>\n",
              "      <th>7</th>\n",
              "      <td>173</td>\n",
              "      <td>38.5</td>\n",
              "    </tr>\n",
              "    <tr>\n",
              "      <th>8</th>\n",
              "      <td>169</td>\n",
              "      <td>37.0</td>\n",
              "    </tr>\n",
              "    <tr>\n",
              "      <th>9</th>\n",
              "      <td>163</td>\n",
              "      <td>37.0</td>\n",
              "    </tr>\n",
              "  </tbody>\n",
              "</table>\n",
              "</div>"
            ],
            "text/plain": [
              "   Height  ShoeSize\n",
              "0     165      36.5\n",
              "1     168      37.0\n",
              "2     172      39.5\n",
              "3     174      37.5\n",
              "4     170      37.5\n",
              "5     171      38.0\n",
              "6     164      36.0\n",
              "7     173      38.5\n",
              "8     169      37.0\n",
              "9     163      37.0"
            ]
          },
          "execution_count": 3,
          "metadata": {},
          "output_type": "execute_result"
        }
      ],
      "source": [
        "df"
      ]
    },
    {
      "cell_type": "code",
      "execution_count": 4,
      "metadata": {
        "colab": {
          "base_uri": "https://localhost:8080/",
          "height": 112
        },
        "id": "yuKSPF-Ox9yi",
        "outputId": "42e2276c-2aaf-4bb6-e67c-1fa04d3a75e7"
      },
      "outputs": [
        {
          "data": {
            "text/html": [
              "<div>\n",
              "<style scoped>\n",
              "    .dataframe tbody tr th:only-of-type {\n",
              "        vertical-align: middle;\n",
              "    }\n",
              "\n",
              "    .dataframe tbody tr th {\n",
              "        vertical-align: top;\n",
              "    }\n",
              "\n",
              "    .dataframe thead th {\n",
              "        text-align: right;\n",
              "    }\n",
              "</style>\n",
              "<table border=\"1\" class=\"dataframe\">\n",
              "  <thead>\n",
              "    <tr style=\"text-align: right;\">\n",
              "      <th></th>\n",
              "      <th>Height</th>\n",
              "      <th>ShoeSize</th>\n",
              "    </tr>\n",
              "  </thead>\n",
              "  <tbody>\n",
              "    <tr>\n",
              "      <th>Height</th>\n",
              "      <td>1.000000</td>\n",
              "      <td>0.741125</td>\n",
              "    </tr>\n",
              "    <tr>\n",
              "      <th>ShoeSize</th>\n",
              "      <td>0.741125</td>\n",
              "      <td>1.000000</td>\n",
              "    </tr>\n",
              "  </tbody>\n",
              "</table>\n",
              "</div>"
            ],
            "text/plain": [
              "            Height  ShoeSize\n",
              "Height    1.000000  0.741125\n",
              "ShoeSize  0.741125  1.000000"
            ]
          },
          "execution_count": 4,
          "metadata": {},
          "output_type": "execute_result"
        }
      ],
      "source": [
        "df.corr()\n",
        "# Positive correlation: If there is increase in the x (dependent) value,\n",
        "#  increase in the y (independent) value.\n",
        "# Negative/Inverse correlation: If there is decrease in the x (dependent) value,\n",
        "#  decrease in the y (independent) value."
      ]
    },
    {
      "cell_type": "code",
      "execution_count": 5,
      "metadata": {
        "colab": {
          "base_uri": "https://localhost:8080/"
        },
        "id": "ahEZJgfS0QG5",
        "outputId": "22c760ed-858b-4aca-a756-f01cc865ff15"
      },
      "outputs": [
        {
          "name": "stdout",
          "output_type": "stream",
          "text": [
            "result LinregressResult(slope=0.19525959367945825, intercept=4.470654627539503, rvalue=0.7411253770427022, pvalue=0.014178951245427696, stderr=0.06253677280900707, intercept_stderr=10.564921013099163)\n"
          ]
        }
      ],
      "source": [
        "# Formulas:\n",
        "# Slope(m): n * (E(x)(y) - E(x)E(y)) / n * (E(x) * E(y))\n",
        "# intercept(b): ( E(y) * m(E(x)) ) / n\n",
        "\n",
        "lin_reg = linregress(df['Height'], df['ShoeSize'])\n",
        "print(\"result\", lin_reg)"
      ]
    },
    {
      "cell_type": "code",
      "execution_count": 6,
      "metadata": {
        "colab": {
          "base_uri": "https://localhost:8080/"
        },
        "id": "J5MOPluA04PR",
        "outputId": "650b1bcd-f106-45ad-beca-df3288273d79"
      },
      "outputs": [
        {
          "name": "stdout",
          "output_type": "stream",
          "text": [
            "43.52257336343115\n"
          ]
        }
      ],
      "source": [
        "# Calculation of given Height, get shoe size\n",
        "# Formula: y = m x + c\n",
        "# m = slope\n",
        "# c = intercept\n",
        "# x = given height to be calculated\n",
        "\n",
        "given_height = 200\n",
        "print(lin_reg.slope * given_height + lin_reg.intercept)\n",
        "# Resultant is the approx shoe size/value with some residual"
      ]
    },
    {
      "cell_type": "code",
      "execution_count": 7,
      "metadata": {
        "colab": {
          "base_uri": "https://localhost:8080/",
          "height": 296
        },
        "id": "8kB07VXu1h6N",
        "outputId": "a787a27d-6bc6-43f9-e1a4-d2d341d4c5ea"
      },
      "outputs": [
        {
          "data": {
            "text/plain": [
              "<Axes: xlabel='Height', ylabel='ShoeSize'>"
            ]
          },
          "execution_count": 7,
          "metadata": {},
          "output_type": "execute_result"
        },
        {
          "data": {
            "image/png": "[encoded data removed]",
            "text/plain": [
              "<Figure size 640x480 with 1 Axes>"
            ]
          },
          "metadata": {},
          "output_type": "display_data"
        }
      ],
      "source": [
        "# plotting graph\n",
        "# A. Scatter plot\n",
        "sns.scatterplot(data=df, x='Height', y='ShoeSize')"
      ]
    },
    {
      "cell_type": "code",
      "execution_count": 8,
      "metadata": {
        "colab": {
          "base_uri": "https://localhost:8080/",
          "height": 296
        },
        "id": "yk1vvXSV2Ygb",
        "outputId": "15233753-a6be-40b2-90fe-fe9aa71c1bfe"
      },
      "outputs": [
        {
          "data": {
            "text/plain": [
              "<matplotlib.axes._subplots.AxesSubplot at 0x7feba6f293d0>"
            ]
          },
          "execution_count": 8,
          "metadata": {},
          "output_type": "execute_result"
        },
        {
          "data": {
            "image/png": "[encoded data removed]",
            "text/plain": [
              "<Figure size 432x288 with 1 Axes>"
            ]
          },
          "metadata": {
            "needs_background": "light"
          },
          "output_type": "display_data"
        }
      ],
      "source": [
        "# B. Regression plot\n",
        "\n",
        "sns.regplot(data=df, x='Height', y='ShoeSize')"
      ]
    },
    {
      "cell_type": "markdown",
      "metadata": {
        "id": "MqIYZsZ6M6YC"
      },
      "source": [
        "\n",
        "\n",
        "---\n",
        "\n"
      ]
    },
    {
      "cell_type": "markdown",
      "metadata": {
        "id": "ByfsPqZv2m5d"
      },
      "source": [
        "**Q. How to Calculate the error in linear regression?**\n",
        "<br />\n",
        "<br />\n",
        "Ans. A difference between the predicted value and actual value is called **residual**. One of main important assumption of regression analysis is the normal distribution of residual with **mean is equal to 0**, ie., residual must be positive and negative.\n",
        "<br/>\n",
        "<b>Formula</b> RSS (Residual Sum of Squares): \n",
        "<br/>\n",
        "<h2>Calculating Residuals</h2>\n",
        "Knowing that\n",
        "i = y(i) − ^y(i)\n",
        "<br />\n",
        "^y(i) = m x + b"
      ]
    },
    {
      "cell_type": "code",
      "execution_count": 8,
      "metadata": {
        "colab": {
          "base_uri": "https://localhost:8080/"
        },
        "id": "PxHKbWcD2aPa",
        "outputId": "38124b29-d38e-430c-fa6d-77549bf8ca44"
      },
      "outputs": [
        {
          "name": "stdout",
          "output_type": "stream",
          "text": [
            "Residual value: -0.18848758465011173\n"
          ]
        }
      ],
      "source": [
        "# Demo calculating residual value\n",
        "\n",
        "given_height = 165\n",
        "actual_shoe_size = 36.5\n",
        "r_shoe_size = lin_reg.slope * given_height + lin_reg.intercept\n",
        "print(\"Residual value:\", actual_shoe_size - r_shoe_size)"
      ]
    },
    {
      "cell_type": "markdown",
      "metadata": {
        "id": "HZnOi94aM8wv"
      },
      "source": [
        "\n",
        "\n",
        "---"
      ]
    },
    {
      "cell_type": "markdown",
      "metadata": {
        "id": "b0QZ4Ak8A_Jd"
      },
      "source": [
        "**Q. Difference between Loss and Cost function?**\n",
        "<br/>\n",
        "Ans. \n",
        "<br/>\n",
        "**Loss Function:** The Loss function quantifies how much a model function's prediction ^y = f(x) deviates from the ground truth y = y(x), we calculate loss on the single object in the training or test sets\n",
        "<br/>\n",
        "Examples:\n",
        "<ul>\n",
        "<li> MSE: Mean Square Error</li>\n",
        "<li> MAE: Mean Absolute Error</li>\n",
        "</ul>\n",
        "\n",
        "\n",
        "**Cost Function:** The cost function measure the model's error on a group of objects.\n",
        "<br/>\n",
        "Examples:\n",
        "<ul>\n",
        "<li> Average Square Loss.</li>\n",
        "</ul>\n",
        "\n",
        "**Object Functions:** The object these functions is not to minimize the cost/loss over training data, is to avoid **overfitting**"
      ]
    },
    {
      "cell_type": "markdown",
      "metadata": {
        "id": "TiZURb7UL_HV"
      },
      "source": [
        "\n",
        "\n",
        "---\n"
      ]
    },
    {
      "cell_type": "markdown",
      "metadata": {
        "id": "8Mfi6FVWGxbj"
      },
      "source": [
        "**Q. Difference between MSE & MAE & RMSE functions?**\n",
        "\n",
        "**Description:** \n",
        "<ul>\n",
        "<li>MAE (Mean Absolute Error): It represents the differences the average of the absolute difference betweeen the actual and predicted values in the dataset</li>\n",
        "<li>MSE (Mean Square Error): It represents the average of the squared difference between original and predicted values in the dataset.</li> \n",
        "<li>RMSE (Root Mean Square Error): It is the square root of mean square error i.e., it measures the standard deviation of residuals</li>\n",
        "</ul>\n",
        "\n",
        "**Examples:**"
      ]
    },
    {
      "cell_type": "code",
      "execution_count": 9,
      "metadata": {
        "colab": {
          "base_uri": "https://localhost:8080/"
        },
        "id": "hkbU4MVFAiGP",
        "outputId": "b5165e8b-0d17-43e4-f3de-d0bca97c7310"
      },
      "outputs": [
        {
          "name": "stdout",
          "output_type": "stream",
          "text": [
            "Mean Absolute Error (MAE), value:  131.45\n"
          ]
        }
      ],
      "source": [
        "# MAE(Mean Absolute Error):\n",
        "# 1/N E(i=1 to N) |y(i) - ^y|\n",
        "\n",
        "print(\"Mean Absolute Error (MAE), value: \", mean_absolute_error(df['Height'], df['ShoeSize']))"
      ]
    },
    {
      "cell_type": "code",
      "execution_count": 10,
      "metadata": {
        "colab": {
          "base_uri": "https://localhost:8080/"
        },
        "id": "uuMqqrwsO_P9",
        "outputId": "2539d344-8767-4423-8c3a-e9b3b9888188"
      },
      "outputs": [
        {
          "name": "stdout",
          "output_type": "stream",
          "text": [
            "Mean Squared Error (MSE), value:  17288.125\n"
          ]
        }
      ],
      "source": [
        "# MSE(Mean Square Error):\n",
        "# 1/N E(i=1 to N) (y(i) - ^y)**2\n",
        "\n",
        "print(\"Mean Squared Error (MSE), value: \", mean_squared_error(df['Height'], df['ShoeSize']))"
      ]
    },
    {
      "cell_type": "code",
      "execution_count": 12,
      "metadata": {
        "colab": {
          "base_uri": "https://localhost:8080/"
        },
        "id": "6z9g0z1ZPda0",
        "outputId": "7af1e005-4d91-4814-dccd-38b1472500c2"
      },
      "outputs": [
        {
          "name": "stdout",
          "output_type": "stream",
          "text": [
            "Root Mean Squared Error (RMSE), value:  131.48431465387802\n"
          ]
        }
      ],
      "source": [
        "# RMSE(Root Mean Square Error):\n",
        "# Square root (1/N E(i=1 to N) (y(i) - ^y)**2)\n",
        "MSE = mean_squared_error(df['Height'], df['ShoeSize'])\n",
        "print(\"Root Mean Squared Error (RMSE), value: \", math.sqrt(MSE))"
      ]
    },
    {
      "cell_type": "markdown",
      "metadata": {
        "id": "0rCisCXzQWPR"
      },
      "source": [
        "\n",
        "\n",
        "---\n",
        "\n"
      ]
    },
    {
      "cell_type": "markdown",
      "metadata": {
        "id": "GCGo4WKOU6oH"
      },
      "source": [
        "**Explain how `Gradient Descent` works in `Linear Regression`** ?\n",
        "\n",
        "Ans.\n",
        "\n",
        "**Simple definition:** A grident simply measures the change in all weights with regard to the change in error ie., gradient as the slope of a function. \n",
        "\n",
        "The higher gradient, the steeper the slope and the faster a model can learn. But if the slope is zero, the model stops learning\n",
        "\n",
        "**Gradient descent used to optimze the following:**\n",
        "<ul>\n",
        "<li><b>Linear Regression:</b> Optimizing interpect and slope</li>\n",
        "<li><b>Logistic regression:</b> Optimizing the squiggle</li>\n",
        "<li><b>t-sne:</b> Optimizing a cluster</li>\n",
        "</ul>"
      ]
    },
    {
      "cell_type": "code",
      "execution_count": 11,
      "metadata": {
        "colab": {
          "base_uri": "https://localhost:8080/"
        },
        "id": "6Hy9ae9WQL4l",
        "outputId": "5b7497d2-8022-4ab7-e984-a8ff9f39ce47"
      },
      "outputs": [
        {
          "ename": "NameError",
          "evalue": "name 'w' is not defined",
          "output_type": "error",
          "traceback": [
            "\u001b[1;31m---------------------------------------------------------------------------\u001b[0m",
            "\u001b[1;31mNameError\u001b[0m                                 Traceback (most recent call last)",
            "\u001b[1;32mc:\\Ml projects\\machine_practices_problems-main\\ml_assignment_oct_08.ipynb Cell 22\u001b[0m line \u001b[0;36m1\n\u001b[0;32m     <a href='vscode-notebook-cell:/c%3A/Ml%20projects/machine_practices_problems-main/ml_assignment_oct_08.ipynb#X26sZmlsZQ%3D%3D?line=11'>12</a>\u001b[0m learning_rate \u001b[39m=\u001b[39m \u001b[39m0.01\u001b[39m\n\u001b[0;32m     <a href='vscode-notebook-cell:/c%3A/Ml%20projects/machine_practices_problems-main/ml_assignment_oct_08.ipynb#X26sZmlsZQ%3D%3D?line=13'>14</a>\u001b[0m x \u001b[39m=\u001b[39m np\u001b[39m.\u001b[39msort( \u001b[39m5\u001b[39m \u001b[39m*\u001b[39m (np\u001b[39m.\u001b[39mrandom\u001b[39m.\u001b[39mrandom(numvals) \u001b[39m-\u001b[39m \u001b[39m0.5\u001b[39m))\n\u001b[1;32m---> <a href='vscode-notebook-cell:/c%3A/Ml%20projects/machine_practices_problems-main/ml_assignment_oct_08.ipynb#X26sZmlsZQ%3D%3D?line=14'>15</a>\u001b[0m y \u001b[39m=\u001b[39m w \u001b[39m*\u001b[39m (x \u001b[39m+\u001b[39m x\u001b[39m*\u001b[39m\u001b[39m*\u001b[39m\u001b[39m2\u001b[39m) \u001b[39m+\u001b[39m np\u001b[39m.\u001b[39mrandom\u001b[39m.\u001b[39mnormal(\u001b[39m0\u001b[39m, \u001b[39m0.1\u001b[39m, numvals)\n\u001b[0;32m     <a href='vscode-notebook-cell:/c%3A/Ml%20projects/machine_practices_problems-main/ml_assignment_oct_08.ipynb#X26sZmlsZQ%3D%3D?line=16'>17</a>\u001b[0m \u001b[39mprint\u001b[39m(\u001b[39m'\u001b[39m\u001b[39mX coordinates\u001b[39m\u001b[39m'\u001b[39m, x)\n\u001b[0;32m     <a href='vscode-notebook-cell:/c%3A/Ml%20projects/machine_practices_problems-main/ml_assignment_oct_08.ipynb#X26sZmlsZQ%3D%3D?line=17'>18</a>\u001b[0m \u001b[39mprint\u001b[39m(\u001b[39m'\u001b[39m\u001b[39my coordinates\u001b[39m\u001b[39m'\u001b[39m, y)\n",
            "\u001b[1;31mNameError\u001b[0m: name 'w' is not defined"
          ]
        }
      ],
      "source": [
        "# Example:\n",
        "# Basic formula:\n",
        "# ^y = mx + b\n",
        "# loss = (y - ^y) ** 2 /N\n",
        "\n",
        "numvals = 50\n",
        "\n",
        "# initial values of slope and intercept\n",
        "m, b = 0, 0 \n",
        "\n",
        "# initial learning rate is 0.01\n",
        "learning_rate = 0.01\n",
        "\n",
        "x = np.sort( 5 * (np.random.random(numvals) - 0.5))\n",
        "y = w * (x + x**2) + np.random.normal(0, 0.1, numvals)\n",
        "\n",
        "print('X coordinates', x)\n",
        "print('y coordinates', y)"
      ]
    },
    {
      "cell_type": "code",
      "execution_count": 42,
      "metadata": {
        "colab": {
          "base_uri": "https://localhost:8080/",
          "height": 493
        },
        "id": "1xzbM8qw6rPb",
        "outputId": "a0e6099a-2635-4309-ea65-87e5f116e3bf"
      },
      "outputs": [
        {
          "data": {
            "text/plain": [
              "Text(0.5, 1.0, 'Data')"
            ]
          },
          "execution_count": 42,
          "metadata": {},
          "output_type": "execute_result"
        },
        {
          "data": {
            "image/png": "[encoded data removed]",
            "text/plain": [
              "<Figure size 504x504 with 1 Axes>"
            ]
          },
          "metadata": {
            "needs_background": "light"
          },
          "output_type": "display_data"
        }
      ],
      "source": [
        "# Plotting scatter graph\n",
        "\n",
        "plt.figure(figsize=(7, 7))\n",
        "plt.scatter(x, y)\n",
        "plt.xlabel('x', fontsize=20)\n",
        "plt.ylabel('y', fontsize=20)\n",
        "plt.title('Data', fontsize=25)"
      ]
    },
    {
      "cell_type": "code",
      "execution_count": 48,
      "metadata": {
        "id": "0Wfaq70z7Wba"
      },
      "outputs": [],
      "source": [
        "# basic gradient descent functional approach\n",
        "\n",
        "def descend(x, y, m, b, learning_rate): \n",
        "    dldw = 0.0 \n",
        "    dldb = 0.0 \n",
        "    N = x.shape[0]\n",
        "    # loss = (y-(wx+b)))**2\n",
        "    for xi, yi in zip(x,y): \n",
        "       dldw += -2*xi*(yi-(m*xi+b))\n",
        "       dldb += -2*(yi-(m*xi+b))\n",
        "    \n",
        "    # Make an update to the w parameter \n",
        "    m = m - learning_rate*(1/N)*dldw\n",
        "    b = b - learning_rate*(1/N)*dldb\n",
        "    return m, b\n"
      ]
    },
    {
      "cell_type": "code",
      "execution_count": 49,
      "metadata": {
        "colab": {
          "base_uri": "https://localhost:8080/"
        },
        "id": "ABwmZvYV_WOt",
        "outputId": "62ea807f-3c01-4274-a06d-c4ef70026a55"
      },
      "outputs": [
        {
          "name": "stdout",
          "output_type": "stream",
          "text": [
            "0 loss is 0.8868453559536975, paramters m:0.6549335408152704, b:1.1056858183977485\n",
            "1 loss is 0.8868453559536975, paramters m:0.6549335408152704, b:1.1056858183977485\n",
            "2 loss is 0.8868453559536975, paramters m:0.6549335408152704, b:1.1056858183977485\n",
            "3 loss is 0.8868453559536975, paramters m:0.6549335408152704, b:1.1056858183977485\n",
            "4 loss is 0.8868453559536975, paramters m:0.6549335408152704, b:1.1056858183977485\n",
            "5 loss is 0.8868453559536975, paramters m:0.6549335408152704, b:1.1056858183977485\n",
            "6 loss is 0.8868453559536975, paramters m:0.6549335408152704, b:1.1056858183977485\n",
            "7 loss is 0.8868453559536975, paramters m:0.6549335408152704, b:1.1056858183977485\n",
            "8 loss is 0.8868453559536975, paramters m:0.6549335408152704, b:1.1056858183977485\n",
            "9 loss is 0.8868453559536975, paramters m:0.6549335408152704, b:1.1056858183977485\n",
            "10 loss is 0.8868453559536975, paramters m:0.6549335408152704, b:1.1056858183977485\n",
            "11 loss is 0.8868453559536975, paramters m:0.6549335408152704, b:1.1056858183977485\n",
            "12 loss is 0.8868453559536975, paramters m:0.6549335408152704, b:1.1056858183977485\n",
            "13 loss is 0.8868453559536975, paramters m:0.6549335408152704, b:1.1056858183977485\n",
            "14 loss is 0.8868453559536975, paramters m:0.6549335408152704, b:1.1056858183977485\n",
            "15 loss is 0.8868453559536975, paramters m:0.6549335408152704, b:1.1056858183977485\n",
            "16 loss is 0.8868453559536975, paramters m:0.6549335408152704, b:1.1056858183977485\n",
            "17 loss is 0.8868453559536975, paramters m:0.6549335408152704, b:1.1056858183977485\n",
            "18 loss is 0.8868453559536975, paramters m:0.6549335408152704, b:1.1056858183977485\n",
            "19 loss is 0.8868453559536975, paramters m:0.6549335408152704, b:1.1056858183977485\n",
            "20 loss is 0.8868453559536975, paramters m:0.6549335408152704, b:1.1056858183977485\n",
            "21 loss is 0.8868453559536975, paramters m:0.6549335408152704, b:1.1056858183977485\n",
            "22 loss is 0.8868453559536975, paramters m:0.6549335408152704, b:1.1056858183977485\n",
            "23 loss is 0.8868453559536975, paramters m:0.6549335408152704, b:1.1056858183977485\n",
            "24 loss is 0.8868453559536975, paramters m:0.6549335408152704, b:1.1056858183977485\n",
            "25 loss is 0.8868453559536975, paramters m:0.6549335408152704, b:1.1056858183977485\n",
            "26 loss is 0.8868453559536975, paramters m:0.6549335408152704, b:1.1056858183977485\n",
            "27 loss is 0.8868453559536975, paramters m:0.6549335408152704, b:1.1056858183977485\n",
            "28 loss is 0.8868453559536975, paramters m:0.6549335408152704, b:1.1056858183977485\n",
            "29 loss is 0.8868453559536975, paramters m:0.6549335408152704, b:1.1056858183977485\n",
            "30 loss is 0.8868453559536975, paramters m:0.6549335408152704, b:1.1056858183977485\n",
            "31 loss is 0.8868453559536975, paramters m:0.6549335408152704, b:1.1056858183977485\n",
            "32 loss is 0.8868453559536975, paramters m:0.6549335408152704, b:1.1056858183977485\n",
            "33 loss is 0.8868453559536975, paramters m:0.6549335408152704, b:1.1056858183977485\n",
            "34 loss is 0.8868453559536975, paramters m:0.6549335408152704, b:1.1056858183977485\n",
            "35 loss is 0.8868453559536975, paramters m:0.6549335408152704, b:1.1056858183977485\n",
            "36 loss is 0.8868453559536975, paramters m:0.6549335408152704, b:1.1056858183977485\n",
            "37 loss is 0.8868453559536975, paramters m:0.6549335408152704, b:1.1056858183977485\n",
            "38 loss is 0.8868453559536975, paramters m:0.6549335408152704, b:1.1056858183977485\n",
            "39 loss is 0.8868453559536975, paramters m:0.6549335408152704, b:1.1056858183977485\n",
            "40 loss is 0.8868453559536975, paramters m:0.6549335408152704, b:1.1056858183977485\n",
            "41 loss is 0.8868453559536975, paramters m:0.6549335408152704, b:1.1056858183977485\n",
            "42 loss is 0.8868453559536975, paramters m:0.6549335408152704, b:1.1056858183977485\n",
            "43 loss is 0.8868453559536975, paramters m:0.6549335408152704, b:1.1056858183977485\n",
            "44 loss is 0.8868453559536975, paramters m:0.6549335408152704, b:1.1056858183977485\n",
            "45 loss is 0.8868453559536975, paramters m:0.6549335408152704, b:1.1056858183977485\n",
            "46 loss is 0.8868453559536975, paramters m:0.6549335408152704, b:1.1056858183977485\n",
            "47 loss is 0.8868453559536975, paramters m:0.6549335408152704, b:1.1056858183977485\n",
            "48 loss is 0.8868453559536975, paramters m:0.6549335408152704, b:1.1056858183977485\n",
            "49 loss is 0.8868453559536975, paramters m:0.6549335408152704, b:1.1056858183977485\n",
            "50 loss is 0.8868453559536975, paramters m:0.6549335408152704, b:1.1056858183977485\n",
            "51 loss is 0.8868453559536975, paramters m:0.6549335408152704, b:1.1056858183977485\n",
            "52 loss is 0.8868453559536975, paramters m:0.6549335408152704, b:1.1056858183977485\n",
            "53 loss is 0.8868453559536975, paramters m:0.6549335408152704, b:1.1056858183977485\n",
            "54 loss is 0.8868453559536975, paramters m:0.6549335408152704, b:1.1056858183977485\n",
            "55 loss is 0.8868453559536975, paramters m:0.6549335408152704, b:1.1056858183977485\n",
            "56 loss is 0.8868453559536975, paramters m:0.6549335408152704, b:1.1056858183977485\n",
            "57 loss is 0.8868453559536975, paramters m:0.6549335408152704, b:1.1056858183977485\n",
            "58 loss is 0.8868453559536975, paramters m:0.6549335408152704, b:1.1056858183977485\n",
            "59 loss is 0.8868453559536975, paramters m:0.6549335408152704, b:1.1056858183977485\n",
            "60 loss is 0.8868453559536975, paramters m:0.6549335408152704, b:1.1056858183977485\n",
            "61 loss is 0.8868453559536975, paramters m:0.6549335408152704, b:1.1056858183977485\n",
            "62 loss is 0.8868453559536975, paramters m:0.6549335408152704, b:1.1056858183977485\n",
            "63 loss is 0.8868453559536975, paramters m:0.6549335408152704, b:1.1056858183977485\n",
            "64 loss is 0.8868453559536975, paramters m:0.6549335408152704, b:1.1056858183977485\n",
            "65 loss is 0.8868453559536975, paramters m:0.6549335408152704, b:1.1056858183977485\n",
            "66 loss is 0.8868453559536975, paramters m:0.6549335408152704, b:1.1056858183977485\n",
            "67 loss is 0.8868453559536975, paramters m:0.6549335408152704, b:1.1056858183977485\n",
            "68 loss is 0.8868453559536975, paramters m:0.6549335408152704, b:1.1056858183977485\n",
            "69 loss is 0.8868453559536975, paramters m:0.6549335408152704, b:1.1056858183977485\n",
            "70 loss is 0.8868453559536975, paramters m:0.6549335408152704, b:1.1056858183977485\n",
            "71 loss is 0.8868453559536975, paramters m:0.6549335408152704, b:1.1056858183977485\n",
            "72 loss is 0.8868453559536975, paramters m:0.6549335408152704, b:1.1056858183977485\n",
            "73 loss is 0.8868453559536975, paramters m:0.6549335408152704, b:1.1056858183977485\n",
            "74 loss is 0.8868453559536975, paramters m:0.6549335408152704, b:1.1056858183977485\n",
            "75 loss is 0.8868453559536975, paramters m:0.6549335408152704, b:1.1056858183977485\n",
            "76 loss is 0.8868453559536975, paramters m:0.6549335408152704, b:1.1056858183977485\n",
            "77 loss is 0.8868453559536975, paramters m:0.6549335408152704, b:1.1056858183977485\n",
            "78 loss is 0.8868453559536975, paramters m:0.6549335408152704, b:1.1056858183977485\n",
            "79 loss is 0.8868453559536975, paramters m:0.6549335408152704, b:1.1056858183977485\n",
            "80 loss is 0.8868453559536975, paramters m:0.6549335408152704, b:1.1056858183977485\n",
            "81 loss is 0.8868453559536975, paramters m:0.6549335408152704, b:1.1056858183977485\n",
            "82 loss is 0.8868453559536975, paramters m:0.6549335408152704, b:1.1056858183977485\n",
            "83 loss is 0.8868453559536975, paramters m:0.6549335408152704, b:1.1056858183977485\n",
            "84 loss is 0.8868453559536975, paramters m:0.6549335408152704, b:1.1056858183977485\n",
            "85 loss is 0.8868453559536975, paramters m:0.6549335408152704, b:1.1056858183977485\n",
            "86 loss is 0.8868453559536975, paramters m:0.6549335408152704, b:1.1056858183977485\n",
            "87 loss is 0.8868453559536975, paramters m:0.6549335408152704, b:1.1056858183977485\n",
            "88 loss is 0.8868453559536975, paramters m:0.6549335408152704, b:1.1056858183977485\n",
            "89 loss is 0.8868453559536975, paramters m:0.6549335408152704, b:1.1056858183977485\n",
            "90 loss is 0.8868453559536975, paramters m:0.6549335408152704, b:1.1056858183977485\n",
            "91 loss is 0.8868453559536975, paramters m:0.6549335408152704, b:1.1056858183977485\n",
            "92 loss is 0.8868453559536975, paramters m:0.6549335408152704, b:1.1056858183977485\n",
            "93 loss is 0.8868453559536975, paramters m:0.6549335408152704, b:1.1056858183977485\n",
            "94 loss is 0.8868453559536975, paramters m:0.6549335408152704, b:1.1056858183977485\n",
            "95 loss is 0.8868453559536975, paramters m:0.6549335408152704, b:1.1056858183977485\n",
            "96 loss is 0.8868453559536975, paramters m:0.6549335408152704, b:1.1056858183977485\n",
            "97 loss is 0.8868453559536975, paramters m:0.6549335408152704, b:1.1056858183977485\n",
            "98 loss is 0.8868453559536975, paramters m:0.6549335408152704, b:1.1056858183977485\n",
            "99 loss is 0.8868453559536975, paramters m:0.6549335408152704, b:1.1056858183977485\n",
            "100 loss is 0.8868453559536975, paramters m:0.6549335408152704, b:1.1056858183977485\n",
            "101 loss is 0.8868453559536975, paramters m:0.6549335408152704, b:1.1056858183977485\n",
            "102 loss is 0.8868453559536975, paramters m:0.6549335408152704, b:1.1056858183977485\n",
            "103 loss is 0.8868453559536975, paramters m:0.6549335408152704, b:1.1056858183977485\n",
            "104 loss is 0.8868453559536975, paramters m:0.6549335408152704, b:1.1056858183977485\n",
            "105 loss is 0.8868453559536975, paramters m:0.6549335408152704, b:1.1056858183977485\n",
            "106 loss is 0.8868453559536975, paramters m:0.6549335408152704, b:1.1056858183977485\n",
            "107 loss is 0.8868453559536975, paramters m:0.6549335408152704, b:1.1056858183977485\n",
            "108 loss is 0.8868453559536975, paramters m:0.6549335408152704, b:1.1056858183977485\n",
            "109 loss is 0.8868453559536975, paramters m:0.6549335408152704, b:1.1056858183977485\n",
            "110 loss is 0.8868453559536975, paramters m:0.6549335408152704, b:1.1056858183977485\n",
            "111 loss is 0.8868453559536975, paramters m:0.6549335408152704, b:1.1056858183977485\n",
            "112 loss is 0.8868453559536975, paramters m:0.6549335408152704, b:1.1056858183977485\n",
            "113 loss is 0.8868453559536975, paramters m:0.6549335408152704, b:1.1056858183977485\n",
            "114 loss is 0.8868453559536975, paramters m:0.6549335408152704, b:1.1056858183977485\n",
            "115 loss is 0.8868453559536975, paramters m:0.6549335408152704, b:1.1056858183977485\n",
            "116 loss is 0.8868453559536975, paramters m:0.6549335408152704, b:1.1056858183977485\n",
            "117 loss is 0.8868453559536975, paramters m:0.6549335408152704, b:1.1056858183977485\n",
            "118 loss is 0.8868453559536975, paramters m:0.6549335408152704, b:1.1056858183977485\n",
            "119 loss is 0.8868453559536975, paramters m:0.6549335408152704, b:1.1056858183977485\n",
            "120 loss is 0.8868453559536975, paramters m:0.6549335408152704, b:1.1056858183977485\n",
            "121 loss is 0.8868453559536975, paramters m:0.6549335408152704, b:1.1056858183977485\n",
            "122 loss is 0.8868453559536975, paramters m:0.6549335408152704, b:1.1056858183977485\n",
            "123 loss is 0.8868453559536975, paramters m:0.6549335408152704, b:1.1056858183977485\n",
            "124 loss is 0.8868453559536975, paramters m:0.6549335408152704, b:1.1056858183977485\n",
            "125 loss is 0.8868453559536975, paramters m:0.6549335408152704, b:1.1056858183977485\n",
            "126 loss is 0.8868453559536975, paramters m:0.6549335408152704, b:1.1056858183977485\n",
            "127 loss is 0.8868453559536975, paramters m:0.6549335408152704, b:1.1056858183977485\n",
            "128 loss is 0.8868453559536975, paramters m:0.6549335408152704, b:1.1056858183977485\n",
            "129 loss is 0.8868453559536975, paramters m:0.6549335408152704, b:1.1056858183977485\n",
            "130 loss is 0.8868453559536975, paramters m:0.6549335408152704, b:1.1056858183977485\n",
            "131 loss is 0.8868453559536975, paramters m:0.6549335408152704, b:1.1056858183977485\n",
            "132 loss is 0.8868453559536975, paramters m:0.6549335408152704, b:1.1056858183977485\n",
            "133 loss is 0.8868453559536975, paramters m:0.6549335408152704, b:1.1056858183977485\n",
            "134 loss is 0.8868453559536975, paramters m:0.6549335408152704, b:1.1056858183977485\n",
            "135 loss is 0.8868453559536975, paramters m:0.6549335408152704, b:1.1056858183977485\n",
            "136 loss is 0.8868453559536975, paramters m:0.6549335408152704, b:1.1056858183977485\n",
            "137 loss is 0.8868453559536975, paramters m:0.6549335408152704, b:1.1056858183977485\n",
            "138 loss is 0.8868453559536975, paramters m:0.6549335408152704, b:1.1056858183977485\n",
            "139 loss is 0.8868453559536975, paramters m:0.6549335408152704, b:1.1056858183977485\n",
            "140 loss is 0.8868453559536975, paramters m:0.6549335408152704, b:1.1056858183977485\n",
            "141 loss is 0.8868453559536975, paramters m:0.6549335408152704, b:1.1056858183977485\n",
            "142 loss is 0.8868453559536975, paramters m:0.6549335408152704, b:1.1056858183977485\n",
            "143 loss is 0.8868453559536975, paramters m:0.6549335408152704, b:1.1056858183977485\n",
            "144 loss is 0.8868453559536975, paramters m:0.6549335408152704, b:1.1056858183977485\n",
            "145 loss is 0.8868453559536975, paramters m:0.6549335408152704, b:1.1056858183977485\n",
            "146 loss is 0.8868453559536975, paramters m:0.6549335408152704, b:1.1056858183977485\n",
            "147 loss is 0.8868453559536975, paramters m:0.6549335408152704, b:1.1056858183977485\n",
            "148 loss is 0.8868453559536975, paramters m:0.6549335408152704, b:1.1056858183977485\n",
            "149 loss is 0.8868453559536975, paramters m:0.6549335408152704, b:1.1056858183977485\n",
            "150 loss is 0.8868453559536975, paramters m:0.6549335408152704, b:1.1056858183977485\n",
            "151 loss is 0.8868453559536975, paramters m:0.6549335408152704, b:1.1056858183977485\n",
            "152 loss is 0.8868453559536975, paramters m:0.6549335408152704, b:1.1056858183977485\n",
            "153 loss is 0.8868453559536975, paramters m:0.6549335408152704, b:1.1056858183977485\n",
            "154 loss is 0.8868453559536975, paramters m:0.6549335408152704, b:1.1056858183977485\n",
            "155 loss is 0.8868453559536975, paramters m:0.6549335408152704, b:1.1056858183977485\n",
            "156 loss is 0.8868453559536975, paramters m:0.6549335408152704, b:1.1056858183977485\n",
            "157 loss is 0.8868453559536975, paramters m:0.6549335408152704, b:1.1056858183977485\n",
            "158 loss is 0.8868453559536975, paramters m:0.6549335408152704, b:1.1056858183977485\n",
            "159 loss is 0.8868453559536975, paramters m:0.6549335408152704, b:1.1056858183977485\n",
            "160 loss is 0.8868453559536975, paramters m:0.6549335408152704, b:1.1056858183977485\n",
            "161 loss is 0.8868453559536975, paramters m:0.6549335408152704, b:1.1056858183977485\n",
            "162 loss is 0.8868453559536975, paramters m:0.6549335408152704, b:1.1056858183977485\n",
            "163 loss is 0.8868453559536975, paramters m:0.6549335408152704, b:1.1056858183977485\n",
            "164 loss is 0.8868453559536975, paramters m:0.6549335408152704, b:1.1056858183977485\n",
            "165 loss is 0.8868453559536975, paramters m:0.6549335408152704, b:1.1056858183977485\n",
            "166 loss is 0.8868453559536975, paramters m:0.6549335408152704, b:1.1056858183977485\n",
            "167 loss is 0.8868453559536975, paramters m:0.6549335408152704, b:1.1056858183977485\n",
            "168 loss is 0.8868453559536975, paramters m:0.6549335408152704, b:1.1056858183977485\n",
            "169 loss is 0.8868453559536975, paramters m:0.6549335408152704, b:1.1056858183977485\n",
            "170 loss is 0.8868453559536975, paramters m:0.6549335408152704, b:1.1056858183977485\n",
            "171 loss is 0.8868453559536975, paramters m:0.6549335408152704, b:1.1056858183977485\n",
            "172 loss is 0.8868453559536975, paramters m:0.6549335408152704, b:1.1056858183977485\n",
            "173 loss is 0.8868453559536975, paramters m:0.6549335408152704, b:1.1056858183977485\n",
            "174 loss is 0.8868453559536975, paramters m:0.6549335408152704, b:1.1056858183977485\n",
            "175 loss is 0.8868453559536975, paramters m:0.6549335408152704, b:1.1056858183977485\n",
            "176 loss is 0.8868453559536975, paramters m:0.6549335408152704, b:1.1056858183977485\n",
            "177 loss is 0.8868453559536975, paramters m:0.6549335408152704, b:1.1056858183977485\n",
            "178 loss is 0.8868453559536975, paramters m:0.6549335408152704, b:1.1056858183977485\n",
            "179 loss is 0.8868453559536975, paramters m:0.6549335408152704, b:1.1056858183977485\n",
            "180 loss is 0.8868453559536975, paramters m:0.6549335408152704, b:1.1056858183977485\n",
            "181 loss is 0.8868453559536975, paramters m:0.6549335408152704, b:1.1056858183977485\n",
            "182 loss is 0.8868453559536975, paramters m:0.6549335408152704, b:1.1056858183977485\n",
            "183 loss is 0.8868453559536975, paramters m:0.6549335408152704, b:1.1056858183977485\n",
            "184 loss is 0.8868453559536975, paramters m:0.6549335408152704, b:1.1056858183977485\n",
            "185 loss is 0.8868453559536975, paramters m:0.6549335408152704, b:1.1056858183977485\n",
            "186 loss is 0.8868453559536975, paramters m:0.6549335408152704, b:1.1056858183977485\n",
            "187 loss is 0.8868453559536975, paramters m:0.6549335408152704, b:1.1056858183977485\n",
            "188 loss is 0.8868453559536975, paramters m:0.6549335408152704, b:1.1056858183977485\n",
            "189 loss is 0.8868453559536975, paramters m:0.6549335408152704, b:1.1056858183977485\n",
            "190 loss is 0.8868453559536975, paramters m:0.6549335408152704, b:1.1056858183977485\n",
            "191 loss is 0.8868453559536975, paramters m:0.6549335408152704, b:1.1056858183977485\n",
            "192 loss is 0.8868453559536975, paramters m:0.6549335408152704, b:1.1056858183977485\n",
            "193 loss is 0.8868453559536975, paramters m:0.6549335408152704, b:1.1056858183977485\n",
            "194 loss is 0.8868453559536975, paramters m:0.6549335408152704, b:1.1056858183977485\n",
            "195 loss is 0.8868453559536975, paramters m:0.6549335408152704, b:1.1056858183977485\n",
            "196 loss is 0.8868453559536975, paramters m:0.6549335408152704, b:1.1056858183977485\n",
            "197 loss is 0.8868453559536975, paramters m:0.6549335408152704, b:1.1056858183977485\n",
            "198 loss is 0.8868453559536975, paramters m:0.6549335408152704, b:1.1056858183977485\n",
            "199 loss is 0.8868453559536975, paramters m:0.6549335408152704, b:1.1056858183977485\n"
          ]
        }
      ],
      "source": [
        "# Iteratively make updates\n",
        "for epoch in range(200): \n",
        "    m, b = descend(x,y,m,b,learning_rate)\n",
        "    yhat = m*x + b\n",
        "    loss = np.divide(np.sum((y-yhat)**2, axis=0), x.shape[0]) \n",
        "    print(f'{epoch} loss is {loss}, paramters m:{m}, b:{b}')"
      ]
    },
    {
      "cell_type": "markdown",
      "metadata": {
        "id": "NYMxv3hCAj0P"
      },
      "source": [
        "\n",
        "\n",
        "---\n"
      ]
    },
    {
      "cell_type": "markdown",
      "metadata": {
        "id": "PJdDBl8-BBBJ"
      },
      "source": [
        "**Explain the term intercept?**\n",
        "\n",
        "Ans. The intercept (sometimes called the \"constant\")in a regression model represents the mean value of the response variable when all of the predictor variables in the model are equal to zero.\n",
        "\n",
        "Formula:\n",
        "\n",
        "**Simple linear regression: ŷ = β0 + β1(x)**\n",
        "\n",
        "\n",
        "<ul>\n",
        "<li>ŷ: The predicted value for the response variable</li>\n",
        "<li>β0: The mean value of the response variable when x = 0</li>\n",
        "<li>β1: The average change in the response variable for a one unit increase in x</li>\n",
        "<li>x: The value for the predictor variable</li>\n",
        "</ul>\n",
        "\n",
        "**Multiple Linear Regression: ŷ = β0 + β1(x1) + β2(x2) + β3(x3) + … + βk(xk)**\n",
        "<ul>\n",
        "<li>ŷ: The predicted value for the response variable</li>\n",
        "<li>β0: The mean value of the response variable when all predictor variables are zero</li>\n",
        "<li>βj: The average change in the response variable for a one unit increase in the jth predictor variable, assuming all other predictor variables are held constant</li>\n",
        "<li>xj: The value for the jth predictor variable</li>\n",
        "</ul>"
      ]
    },
    {
      "cell_type": "markdown",
      "metadata": {
        "id": "_2SiKcy3GsPE"
      },
      "source": [
        "\n",
        "\n",
        "---\n",
        "\n"
      ]
    },
    {
      "cell_type": "markdown",
      "metadata": {
        "id": "HP7D3Oo0GhwH"
      },
      "source": [
        "**Q. Write all the assumptions for linear regression?**\n",
        "\n",
        "Ans. \n",
        "<ul>\n",
        "<li>Linear relationship</li>\n",
        "<li>Independence</li>\n",
        "<li>Homoscedasticity</li>\n",
        "<li>Normality</li>\n",
        "</ul>\n",
        "\n",
        "\n",
        "**Linear relationship:** There exists a linear relationship between the independent variable, x, and the dependent variable, y.\n",
        "\n",
        "If assumption is voilated:\n",
        "<ul>\n",
        "<li>Apply a non-linear transformation to the independent and/or dependent variable. </li>\n",
        "<li>Add another independent variable to the model.</li>\n",
        "</ul>\n",
        "\n",
        "**Independence:** The residuals are independent. In particular there is no correlation between consecutive residuals in time series data.\n",
        "\n",
        "If assumption is voilated:\n",
        "<ul>\n",
        "<li>Positive serail correlation, consider adding lags of the dependent and/or independent variable to the model. Common examples include taking the log, the square root or the reciprocal of the independent and/or dependent variable</li>\n",
        "<li>Negative serail correlation, check to make sure that none of your variables are overdifferenced.</li>\n",
        "<li>Categorial correlation, consider adding categorial dummy variable to the model.</li>\n",
        "</ul>\n",
        "\n",
        "**Homoscedasticity:** The residuals have constant variance at every level of x.\n",
        "\n",
        "If assumption is voilated:\n",
        "<ul>\n",
        "<li>Transform the dependent variable</li>\n",
        "<li>Redefine the dependent variable</li>\n",
        "<li>Use weighted regression</li>\n",
        "</ul>\n",
        "\n",
        "**Normality:** The residuals of the model are normally distributed.\n",
        "\n",
        "If assumption is voilated:\n",
        "<ul>\n",
        "<li>Verify that any outliers aren't having a huge impact on the distribution.</li>\n",
        "<li>Make sure of no erroneous data</li>\n",
        "<li>Try applying a nonlinear transformation to the independent and/or dependent variable. Common example include taking the log, the square root, or the reciprocal of the independent and/or dependent variable.</li>\n",
        "</ul>"
      ]
    },
    {
      "cell_type": "markdown",
      "metadata": {
        "id": "PIJ1i33LOGsC"
      },
      "source": [
        "\n",
        "\n",
        "---\n"
      ]
    },
    {
      "cell_type": "markdown",
      "metadata": {
        "id": "ZaxIIFFtOQw6"
      },
      "source": [
        "**Q. Hypothesis testing in Linear Regression?**\n",
        "\n",
        "Ans. \n",
        "<ul>\n",
        "<li>By creating the linear regression model, we are establishing a new truth about the relationship between dependent variable with one or more independent variables.</li>\n",
        "<li>In order to justify the truth, there are needed one or more tests. These tests can be termed as an act of testing the truth using hypothesis testing</li>\n",
        "<li>T-test is used to verify the relationsip between the dependent and independent variables</li>\n",
        "<li>F-test is used to test the linear regression model</li>\n",
        "</ul>\n",
        "\n",
        "Steps to perform **Hypothesis tests & Linear Regression Models**\n",
        "\n",
        "<ul>\n",
        "<li>\n",
        "Formulate null and alternative hypothesis:\n",
        "<ul>\n",
        "<li><b>T-tests:</b> Thus, the null hypothesis is set that there is no relationship between independent variable and the predicted variable\n",
        "</li>\n",
        "<li><b>F-tests:</b> The null hypothesis is that the linear regression model doesnot exists.\n",
        "</li>\n",
        "</ul>\n",
        "</li>\n",
        "\n",
        "<li>\n",
        "Determine the test statistics:\n",
        "<ul>\n",
        "<li>T-test for hypotheses related to individual coefficients</li>\n",
        "<li>F-test for hypothesis for linear regression model</li>\n",
        "</ul>\n",
        "</li>\n",
        "\n",
        "<li>\n",
        "Make decision: Based on the values of t-statistics and f-statistics, the decision regarding the linear regression model is taken\n",
        "</li>\n",
        "\n",
        "<li>\n",
        "Draw conclusions.\n",
        "</li>\n",
        "\n",
        "</ul>"
      ]
    },
    {
      "cell_type": "markdown",
      "metadata": {
        "id": "tQA0uDpjSyUq"
      },
      "source": [
        "\n",
        "\n",
        "---\n"
      ]
    },
    {
      "cell_type": "markdown",
      "metadata": {
        "id": "hzo_R7KzS4db"
      },
      "source": [
        "**Q. How would you decide the importance of variable for the multivariant regression?**\n",
        "\n",
        "Ans. It is defined as a process of involving multiple dependent variables resulting in one outcome. \n",
        "\n",
        "The significance of multivariant analysis is helpful in effectively minimizing the bias.\n",
        "\n",
        "**Objective of multivariant analysis:**\n",
        "<ul>\n",
        "<li>Data reduction or structural simplification</li>\n",
        "<li>Sorting and grouping</li>\n",
        "<li>Investigation of dependence among variables</li>\n",
        "<li>Prediction relationship between variables</li>\n",
        "<li>Hypothesis construction and testing</li>\n",
        "</ul>\n",
        "\n",
        "**Some categories of multivariant analysis:**\n",
        "<ul>\n",
        "<li>Cluster analysis</li>\n",
        "<li>Multiple Logistic Regression</li>\n",
        "<li>Multivariate Analysis of Varaiance</li>\n",
        "</ul>\n",
        "\n",
        "**Model Assumptions:**\n",
        "Normality, Homoscedasticity, linearity and independence(the absence of correlated errors).\n",
        "\n",
        "<b>Example:</b> Based on the season we cannot predict the weather of any given year. Several factors play an important role in predicting the **weather**.\n",
        "\n",
        "\n",
        "**Drawbacks:**\n",
        "<ul>\n",
        "<li>This technique involve the use of complex statistical programs that are very expensive</li>\n",
        "</ul>"
      ]
    },
    {
      "cell_type": "markdown",
      "metadata": {
        "id": "IV7ZNEMEZRyO"
      },
      "source": [
        "\n",
        "\n",
        "---\n"
      ]
    },
    {
      "cell_type": "markdown",
      "metadata": {
        "id": "SSOB0ndGYDOq"
      },
      "source": [
        "**Q. Difference between R-Square and Adjusted R-Square?**\n",
        "\n",
        "\n",
        "Ans: \n",
        "<ul>\n",
        "<li>R-Square: Residual Sum of Squares.</li>\n",
        "<li>Adjusted R-Square: Adjusted Residual Sum of Squares.</li>\n",
        "</ul>\n",
        "\n",
        "**R-Square:** It is a statistical measure that represents the proportion of the variance for a dependent variable that's explained by an independent variable or variables in a regression model.\n",
        "\n",
        "**Adjusted R-Squared:** It is a modified version of R-squared that has been adjusted for the number of predictors in the model.\n",
        "Adding more independent variables or predictors to a regression model tends to increase the R-squared value, which tempts markers of the model to add even more variables. This is called overfitting and can return an unwarranted high R-Squared value. Adjusted R-squared is used to determine how reliable the correlation is and how much it is determined by the addition of independent variables \n",
        "\n",
        "**Formula:**\n",
        "\n",
        "R Square(Coefficient of determination): \n",
        "\n",
        "1 - (Sum of squares of residuals/total sum of square)\n",
        "\n",
        "<b>Sum of Squares of Residuals(RSS): E(i=1 to n) (y(i) - f(x(i)))**2</b>\n",
        "<ul>\n",
        "<li>y(i): i^th value of the variable to be predicted</li>\n",
        "<li>f(x(i)): predicted value of y(i)</li>\n",
        "<li>n: number of observations</li>\n",
        "</ul>\n",
        "\n",
        "<b>Total Sum of Square(TSS): E(i=1 to n) (y(i) - ^y)**2</b>\n",
        "<ul>\n",
        "<li>n: number of observations</li>\n",
        "<li>y(i): value in a sample</li>\n",
        "<li>^y: mean value of a sample</li>\n",
        "</ul>\n",
        "\n",
        "<b>Adjust R Square: 1-( (1-R**2)(N-1)/(N-K-1) )</b>\n",
        "\n",
        "R**2 is the actual r square value\n",
        "\n",
        "N: Number of data points\n",
        "\n",
        "K: Indepenedent variable\n",
        "\n",
        "**R-Squared Vs Adjusted R-Squared**\n",
        "\n",
        "The Adjusted R-Squared considers and tests different independent variables against the model, where as R-Squared not."
      ]
    },
    {
      "cell_type": "code",
      "execution_count": null,
      "metadata": {
        "id": "1y9Qhpi7gutq"
      },
      "outputs": [],
      "source": []
    }
  ],
  "metadata": {
    "colab": {
      "collapsed_sections": [],
      "provenance": []
    },
    "kernelspec": {
      "display_name": "Python 3",
      "name": "python3"
    },
    "language_info": {
      "codemirror_mode": {
        "name": "ipython",
        "version": 3
      },
      "file_extension": ".py",
      "mimetype": "text/x-python",
      "name": "python",
      "nbconvert_exporter": "python",
      "pygments_lexer": "ipython3",
      "version": "3.10.9"
    }
  },
  "nbformat": 4,
  "nbformat_minor": 0
}
