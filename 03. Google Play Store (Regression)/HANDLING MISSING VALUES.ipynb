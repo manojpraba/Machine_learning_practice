{
 "cells": [
  {
   "cell_type": "markdown",
   "id": "5b64e221",
   "metadata": {},
   "source": [
    "![image info](https://ineuron.ai/images/ineuron-logo.png)"
   ]
  },
  {
   "cell_type": "markdown",
   "id": "24e79f48",
   "metadata": {},
   "source": [
    "### Missing values approaches\n",
    "\n",
    "* Check for Missing data\n",
    "* Drop NA Values\n",
    "* MEAN/MEDAIN Imputation\n",
    "* Random sample imputation"
   ]
  },
  {
   "cell_type": "markdown",
   "id": "6c50fcf7",
   "metadata": {},
   "source": [
    "###  Import Data and Required Packages\n",
    "**Importing Pandas, Numpy, Matplotlib, Seaborn and Warings Library.**"
   ]
  },
  {
   "cell_type": "code",
   "execution_count": 1,
   "id": "c86e4c63",
   "metadata": {},
   "outputs": [],
   "source": [
    "import pandas as pd\n",
    "import numpy as np\n",
    "import matplotlib.pyplot as plt\n",
    "import seaborn as sns\n",
    "import warnings\n",
    "\n",
    "warnings.filterwarnings(\"ignore\")\n",
    "\n",
    "%matplotlib inline"
   ]
  },
  {
   "cell_type": "markdown",
   "id": "e4ad76c0",
   "metadata": {},
   "source": [
    "**Import the CSV Data as Pandas DataFrame**"
   ]
  },
  {
   "cell_type": "code",
   "execution_count": 2,
   "id": "c9f1e236",
   "metadata": {},
   "outputs": [],
   "source": [
    "df = pd.read_csv('data/google_cleaned.csv')"
   ]
  },
  {
   "cell_type": "markdown",
   "id": "589a2ecf",
   "metadata": {},
   "source": [
    "**Show Top 5 Records**"
   ]
  },
  {
   "cell_type": "code",
   "execution_count": 3,
   "id": "ef2d0efe",
   "metadata": {},
   "outputs": [
    {
     "data": {
      "text/html": [
       "<div>\n",
       "<style scoped>\n",
       "    .dataframe tbody tr th:only-of-type {\n",
       "        vertical-align: middle;\n",
       "    }\n",
       "\n",
       "    .dataframe tbody tr th {\n",
       "        vertical-align: top;\n",
       "    }\n",
       "\n",
       "    .dataframe thead th {\n",
       "        text-align: right;\n",
       "    }\n",
       "</style>\n",
       "<table border=\"1\" class=\"dataframe\">\n",
       "  <thead>\n",
       "    <tr style=\"text-align: right;\">\n",
       "      <th></th>\n",
       "      <th>App</th>\n",
       "      <th>Category</th>\n",
       "      <th>Rating</th>\n",
       "      <th>Reviews</th>\n",
       "      <th>Size</th>\n",
       "      <th>Installs</th>\n",
       "      <th>Type</th>\n",
       "      <th>Price</th>\n",
       "      <th>Content Rating</th>\n",
       "      <th>Genres</th>\n",
       "      <th>Last Updated</th>\n",
       "      <th>Current Ver</th>\n",
       "      <th>Android Ver</th>\n",
       "      <th>Day</th>\n",
       "      <th>Month</th>\n",
       "      <th>Year</th>\n",
       "    </tr>\n",
       "  </thead>\n",
       "  <tbody>\n",
       "    <tr>\n",
       "      <th>6259</th>\n",
       "      <td>EduNAV.BH</td>\n",
       "      <td>FAMILY</td>\n",
       "      <td>NaN</td>\n",
       "      <td>3</td>\n",
       "      <td>3.8</td>\n",
       "      <td>50</td>\n",
       "      <td>Free</td>\n",
       "      <td>0.00</td>\n",
       "      <td>Everyone</td>\n",
       "      <td>Education</td>\n",
       "      <td>2018-02-12</td>\n",
       "      <td>1.2.0</td>\n",
       "      <td>4.3 and up</td>\n",
       "      <td>12</td>\n",
       "      <td>2</td>\n",
       "      <td>2018</td>\n",
       "    </tr>\n",
       "    <tr>\n",
       "      <th>3442</th>\n",
       "      <td>Smart Launcher Pro 3</td>\n",
       "      <td>PERSONALIZATION</td>\n",
       "      <td>4.6</td>\n",
       "      <td>40704</td>\n",
       "      <td>NaN</td>\n",
       "      <td>100000</td>\n",
       "      <td>Paid</td>\n",
       "      <td>4.49</td>\n",
       "      <td>Everyone</td>\n",
       "      <td>Personalization</td>\n",
       "      <td>2018-03-16</td>\n",
       "      <td>Varies with device</td>\n",
       "      <td>Varies with device</td>\n",
       "      <td>16</td>\n",
       "      <td>3</td>\n",
       "      <td>2018</td>\n",
       "    </tr>\n",
       "    <tr>\n",
       "      <th>3166</th>\n",
       "      <td>Gormey: Find Best Restaurants</td>\n",
       "      <td>TRAVEL_AND_LOCAL</td>\n",
       "      <td>4.3</td>\n",
       "      <td>34</td>\n",
       "      <td>7.6</td>\n",
       "      <td>1000</td>\n",
       "      <td>Free</td>\n",
       "      <td>0.00</td>\n",
       "      <td>Everyone</td>\n",
       "      <td>Travel &amp; Local</td>\n",
       "      <td>2017-08-29</td>\n",
       "      <td>2.3</td>\n",
       "      <td>4.0.3 and up</td>\n",
       "      <td>29</td>\n",
       "      <td>8</td>\n",
       "      <td>2017</td>\n",
       "    </tr>\n",
       "    <tr>\n",
       "      <th>5421</th>\n",
       "      <td>Carnivores: Dinosaur Hunter</td>\n",
       "      <td>GAME</td>\n",
       "      <td>4.2</td>\n",
       "      <td>62636</td>\n",
       "      <td>17.0</td>\n",
       "      <td>1000000</td>\n",
       "      <td>Free</td>\n",
       "      <td>0.00</td>\n",
       "      <td>Teen</td>\n",
       "      <td>Action</td>\n",
       "      <td>2018-07-02</td>\n",
       "      <td>1.8.0</td>\n",
       "      <td>4.0.3 and up</td>\n",
       "      <td>2</td>\n",
       "      <td>7</td>\n",
       "      <td>2018</td>\n",
       "    </tr>\n",
       "    <tr>\n",
       "      <th>566</th>\n",
       "      <td>Millionaire Match: Rich Singles Dating App</td>\n",
       "      <td>DATING</td>\n",
       "      <td>3.9</td>\n",
       "      <td>853</td>\n",
       "      <td>27.0</td>\n",
       "      <td>100000</td>\n",
       "      <td>Free</td>\n",
       "      <td>0.00</td>\n",
       "      <td>Mature 17+</td>\n",
       "      <td>Dating</td>\n",
       "      <td>2018-07-30</td>\n",
       "      <td>6.4.6</td>\n",
       "      <td>4.1 and up</td>\n",
       "      <td>30</td>\n",
       "      <td>7</td>\n",
       "      <td>2018</td>\n",
       "    </tr>\n",
       "    <tr>\n",
       "      <th>179</th>\n",
       "      <td>Moon+ Reader</td>\n",
       "      <td>BOOKS_AND_REFERENCE</td>\n",
       "      <td>4.4</td>\n",
       "      <td>233757</td>\n",
       "      <td>NaN</td>\n",
       "      <td>10000000</td>\n",
       "      <td>Free</td>\n",
       "      <td>0.00</td>\n",
       "      <td>Everyone</td>\n",
       "      <td>Books &amp; Reference</td>\n",
       "      <td>2018-05-01</td>\n",
       "      <td>Varies with device</td>\n",
       "      <td>Varies with device</td>\n",
       "      <td>1</td>\n",
       "      <td>5</td>\n",
       "      <td>2018</td>\n",
       "    </tr>\n",
       "    <tr>\n",
       "      <th>2947</th>\n",
       "      <td>Fotor Photo Editor - Photo Collage &amp; Photo Eff...</td>\n",
       "      <td>PHOTOGRAPHY</td>\n",
       "      <td>4.5</td>\n",
       "      <td>597068</td>\n",
       "      <td>NaN</td>\n",
       "      <td>10000000</td>\n",
       "      <td>Free</td>\n",
       "      <td>0.00</td>\n",
       "      <td>Everyone</td>\n",
       "      <td>Photography</td>\n",
       "      <td>2018-07-09</td>\n",
       "      <td>Varies with device</td>\n",
       "      <td>Varies with device</td>\n",
       "      <td>9</td>\n",
       "      <td>7</td>\n",
       "      <td>2018</td>\n",
       "    </tr>\n",
       "    <tr>\n",
       "      <th>3713</th>\n",
       "      <td>Omlet Arcade - Stream, Meet, Play</td>\n",
       "      <td>VIDEO_PLAYERS</td>\n",
       "      <td>4.4</td>\n",
       "      <td>169965</td>\n",
       "      <td>14.0</td>\n",
       "      <td>10000000</td>\n",
       "      <td>Free</td>\n",
       "      <td>0.00</td>\n",
       "      <td>Teen</td>\n",
       "      <td>Video Players &amp; Editors</td>\n",
       "      <td>2018-08-02</td>\n",
       "      <td>1.32.1</td>\n",
       "      <td>4.3 and up</td>\n",
       "      <td>2</td>\n",
       "      <td>8</td>\n",
       "      <td>2018</td>\n",
       "    </tr>\n",
       "    <tr>\n",
       "      <th>10152</th>\n",
       "      <td>EZ TAG Express</td>\n",
       "      <td>TRAVEL_AND_LOCAL</td>\n",
       "      <td>3.2</td>\n",
       "      <td>86</td>\n",
       "      <td>39.0</td>\n",
       "      <td>10000</td>\n",
       "      <td>Free</td>\n",
       "      <td>0.00</td>\n",
       "      <td>Everyone</td>\n",
       "      <td>Travel &amp; Local</td>\n",
       "      <td>2018-05-17</td>\n",
       "      <td>2.5.186032</td>\n",
       "      <td>4.4 and up</td>\n",
       "      <td>17</td>\n",
       "      <td>5</td>\n",
       "      <td>2018</td>\n",
       "    </tr>\n",
       "    <tr>\n",
       "      <th>5141</th>\n",
       "      <td>Claus Paws AH</td>\n",
       "      <td>MEDICAL</td>\n",
       "      <td>NaN</td>\n",
       "      <td>1</td>\n",
       "      <td>29.0</td>\n",
       "      <td>100</td>\n",
       "      <td>Free</td>\n",
       "      <td>0.00</td>\n",
       "      <td>Everyone</td>\n",
       "      <td>Medical</td>\n",
       "      <td>2017-12-08</td>\n",
       "      <td>300000.0.94</td>\n",
       "      <td>4.0.3 and up</td>\n",
       "      <td>8</td>\n",
       "      <td>12</td>\n",
       "      <td>2017</td>\n",
       "    </tr>\n",
       "  </tbody>\n",
       "</table>\n",
       "</div>"
      ],
      "text/plain": [
       "                                                     App             Category  \\\n",
       "6259                                           EduNAV.BH               FAMILY   \n",
       "3442                                Smart Launcher Pro 3      PERSONALIZATION   \n",
       "3166                       Gormey: Find Best Restaurants     TRAVEL_AND_LOCAL   \n",
       "5421                         Carnivores: Dinosaur Hunter                 GAME   \n",
       "566           Millionaire Match: Rich Singles Dating App               DATING   \n",
       "179                                         Moon+ Reader  BOOKS_AND_REFERENCE   \n",
       "2947   Fotor Photo Editor - Photo Collage & Photo Eff...          PHOTOGRAPHY   \n",
       "3713                   Omlet Arcade - Stream, Meet, Play        VIDEO_PLAYERS   \n",
       "10152                                     EZ TAG Express     TRAVEL_AND_LOCAL   \n",
       "5141                                       Claus Paws AH              MEDICAL   \n",
       "\n",
       "       Rating  Reviews  Size  Installs  Type  Price Content Rating  \\\n",
       "6259      NaN        3   3.8        50  Free   0.00       Everyone   \n",
       "3442      4.6    40704   NaN    100000  Paid   4.49       Everyone   \n",
       "3166      4.3       34   7.6      1000  Free   0.00       Everyone   \n",
       "5421      4.2    62636  17.0   1000000  Free   0.00           Teen   \n",
       "566       3.9      853  27.0    100000  Free   0.00     Mature 17+   \n",
       "179       4.4   233757   NaN  10000000  Free   0.00       Everyone   \n",
       "2947      4.5   597068   NaN  10000000  Free   0.00       Everyone   \n",
       "3713      4.4   169965  14.0  10000000  Free   0.00           Teen   \n",
       "10152     3.2       86  39.0     10000  Free   0.00       Everyone   \n",
       "5141      NaN        1  29.0       100  Free   0.00       Everyone   \n",
       "\n",
       "                        Genres Last Updated         Current Ver  \\\n",
       "6259                 Education   2018-02-12               1.2.0   \n",
       "3442           Personalization   2018-03-16  Varies with device   \n",
       "3166            Travel & Local   2017-08-29                 2.3   \n",
       "5421                    Action   2018-07-02               1.8.0   \n",
       "566                     Dating   2018-07-30               6.4.6   \n",
       "179          Books & Reference   2018-05-01  Varies with device   \n",
       "2947               Photography   2018-07-09  Varies with device   \n",
       "3713   Video Players & Editors   2018-08-02              1.32.1   \n",
       "10152           Travel & Local   2018-05-17          2.5.186032   \n",
       "5141                   Medical   2017-12-08         300000.0.94   \n",
       "\n",
       "              Android Ver  Day  Month  Year  \n",
       "6259           4.3 and up   12      2  2018  \n",
       "3442   Varies with device   16      3  2018  \n",
       "3166         4.0.3 and up   29      8  2017  \n",
       "5421         4.0.3 and up    2      7  2018  \n",
       "566            4.1 and up   30      7  2018  \n",
       "179    Varies with device    1      5  2018  \n",
       "2947   Varies with device    9      7  2018  \n",
       "3713           4.3 and up    2      8  2018  \n",
       "10152          4.4 and up   17      5  2018  \n",
       "5141         4.0.3 and up    8     12  2017  "
      ]
     },
     "execution_count": 3,
     "metadata": {},
     "output_type": "execute_result"
    }
   ],
   "source": [
    "#sample of the data(random_sample)\n",
    "df.sample(10)"
   ]
  },
  {
   "cell_type": "markdown",
   "id": "ba53fe8d",
   "metadata": {},
   "source": [
    "### 1. Check for Missing data"
   ]
  },
  {
   "cell_type": "code",
   "execution_count": 5,
   "id": "d4cf516a",
   "metadata": {},
   "outputs": [
    {
     "data": {
      "text/plain": [
       "Size              1695\n",
       "Rating            1474\n",
       "Current Ver          8\n",
       "Android Ver          2\n",
       "Type                 1\n",
       "App                  0\n",
       "Category             0\n",
       "Reviews              0\n",
       "Installs             0\n",
       "Price                0\n",
       "Content Rating       0\n",
       "Genres               0\n",
       "Last Updated         0\n",
       "Day                  0\n",
       "Month                0\n",
       "Year                 0\n",
       "dtype: int64"
      ]
     },
     "execution_count": 5,
     "metadata": {},
     "output_type": "execute_result"
    }
   ],
   "source": [
    "df.isna().sum().sort_values(ascending=False)"
   ]
  },
  {
   "cell_type": "code",
   "execution_count": 8,
   "id": "0412c14e",
   "metadata": {},
   "outputs": [
    {
     "data": {
      "text/plain": [
       "Size              1695\n",
       "Rating            1474\n",
       "Current Ver          8\n",
       "Android Ver          2\n",
       "Type                 1\n",
       "App                  0\n",
       "Category             0\n",
       "Reviews              0\n",
       "Installs             0\n",
       "Price                0\n",
       "Content Rating       0\n",
       "Genres               0\n",
       "Last Updated         0\n",
       "Day                  0\n",
       "Month                0\n",
       "Year                 0\n",
       "dtype: int64"
      ]
     },
     "execution_count": 8,
     "metadata": {},
     "output_type": "execute_result"
    }
   ],
   "source": [
    "df.isna().sum().sort_values(ascending=False) "
   ]
  },
  {
   "cell_type": "code",
   "execution_count": 9,
   "id": "232ec202",
   "metadata": {},
   "outputs": [
    {
     "data": {
      "text/plain": [
       "10840"
      ]
     },
     "execution_count": 9,
     "metadata": {},
     "output_type": "execute_result"
    }
   ],
   "source": [
    "df.shape[0] "
   ]
  },
  {
   "cell_type": "code",
   "execution_count": 11,
   "id": "d0bb1d41",
   "metadata": {},
   "outputs": [
    {
     "data": {
      "text/plain": [
       "15.636531365313653"
      ]
     },
     "execution_count": 11,
     "metadata": {},
     "output_type": "execute_result"
    }
   ],
   "source": [
    "(1695/10840)*100"
   ]
  },
  {
   "cell_type": "code",
   "execution_count": null,
   "id": "a1c75955",
   "metadata": {},
   "outputs": [],
   "source": [
    "* (100)"
   ]
  },
  {
   "cell_type": "code",
   "execution_count": null,
   "id": "dd6e7df0",
   "metadata": {},
   "outputs": [],
   "source": [
    "df.isna().sum().sort_values(ascending=False)"
   ]
  },
  {
   "cell_type": "code",
   "execution_count": 12,
   "id": "8c3c4b2e",
   "metadata": {},
   "outputs": [
    {
     "data": {
      "text/html": [
       "<div>\n",
       "<style scoped>\n",
       "    .dataframe tbody tr th:only-of-type {\n",
       "        vertical-align: middle;\n",
       "    }\n",
       "\n",
       "    .dataframe tbody tr th {\n",
       "        vertical-align: top;\n",
       "    }\n",
       "\n",
       "    .dataframe thead th {\n",
       "        text-align: right;\n",
       "    }\n",
       "</style>\n",
       "<table border=\"1\" class=\"dataframe\">\n",
       "  <thead>\n",
       "    <tr style=\"text-align: right;\">\n",
       "      <th></th>\n",
       "      <th>Null Values</th>\n",
       "      <th>Percentage Null Values</th>\n",
       "    </tr>\n",
       "  </thead>\n",
       "  <tbody>\n",
       "    <tr>\n",
       "      <th>Size</th>\n",
       "      <td>1695</td>\n",
       "      <td>15.636531</td>\n",
       "    </tr>\n",
       "    <tr>\n",
       "      <th>Rating</th>\n",
       "      <td>1474</td>\n",
       "      <td>13.597786</td>\n",
       "    </tr>\n",
       "    <tr>\n",
       "      <th>Current Ver</th>\n",
       "      <td>8</td>\n",
       "      <td>0.073801</td>\n",
       "    </tr>\n",
       "    <tr>\n",
       "      <th>Android Ver</th>\n",
       "      <td>2</td>\n",
       "      <td>0.018450</td>\n",
       "    </tr>\n",
       "    <tr>\n",
       "      <th>Type</th>\n",
       "      <td>1</td>\n",
       "      <td>0.009225</td>\n",
       "    </tr>\n",
       "    <tr>\n",
       "      <th>App</th>\n",
       "      <td>0</td>\n",
       "      <td>0.000000</td>\n",
       "    </tr>\n",
       "    <tr>\n",
       "      <th>Category</th>\n",
       "      <td>0</td>\n",
       "      <td>0.000000</td>\n",
       "    </tr>\n",
       "    <tr>\n",
       "      <th>Reviews</th>\n",
       "      <td>0</td>\n",
       "      <td>0.000000</td>\n",
       "    </tr>\n",
       "    <tr>\n",
       "      <th>Installs</th>\n",
       "      <td>0</td>\n",
       "      <td>0.000000</td>\n",
       "    </tr>\n",
       "    <tr>\n",
       "      <th>Price</th>\n",
       "      <td>0</td>\n",
       "      <td>0.000000</td>\n",
       "    </tr>\n",
       "    <tr>\n",
       "      <th>Content Rating</th>\n",
       "      <td>0</td>\n",
       "      <td>0.000000</td>\n",
       "    </tr>\n",
       "    <tr>\n",
       "      <th>Genres</th>\n",
       "      <td>0</td>\n",
       "      <td>0.000000</td>\n",
       "    </tr>\n",
       "    <tr>\n",
       "      <th>Last Updated</th>\n",
       "      <td>0</td>\n",
       "      <td>0.000000</td>\n",
       "    </tr>\n",
       "    <tr>\n",
       "      <th>Day</th>\n",
       "      <td>0</td>\n",
       "      <td>0.000000</td>\n",
       "    </tr>\n",
       "    <tr>\n",
       "      <th>Month</th>\n",
       "      <td>0</td>\n",
       "      <td>0.000000</td>\n",
       "    </tr>\n",
       "    <tr>\n",
       "      <th>Year</th>\n",
       "      <td>0</td>\n",
       "      <td>0.000000</td>\n",
       "    </tr>\n",
       "  </tbody>\n",
       "</table>\n",
       "</div>"
      ],
      "text/plain": [
       "                Null Values  Percentage Null Values\n",
       "Size                   1695               15.636531\n",
       "Rating                 1474               13.597786\n",
       "Current Ver               8                0.073801\n",
       "Android Ver               2                0.018450\n",
       "Type                      1                0.009225\n",
       "App                       0                0.000000\n",
       "Category                  0                0.000000\n",
       "Reviews                   0                0.000000\n",
       "Installs                  0                0.000000\n",
       "Price                     0                0.000000\n",
       "Content Rating            0                0.000000\n",
       "Genres                    0                0.000000\n",
       "Last Updated              0                0.000000\n",
       "Day                       0                0.000000\n",
       "Month                     0                0.000000\n",
       "Year                      0                0.000000"
      ]
     },
     "execution_count": 12,
     "metadata": {},
     "output_type": "execute_result"
    }
   ],
   "source": [
    "null_df = pd.DataFrame({'Null Values' : df.isna().sum().sort_values(ascending=False), 'Percentage Null Values' : (df.isna().sum().sort_values(ascending=False)) / (df.shape[0]) * (100)})\n",
    "null_df"
   ]
  },
  {
   "cell_type": "code",
   "execution_count": null,
   "id": "43fc044d",
   "metadata": {},
   "outputs": [],
   "source": [
    "#plotting the num value counts"
   ]
  },
  {
   "cell_type": "code",
   "execution_count": 9,
   "id": "29b04ef4",
   "metadata": {},
   "outputs": [],
   "source": [
    "null_counts = df.isna().sum().sort_values(ascending=False)/len(df)"
   ]
  },
  {
   "cell_type": "code",
   "execution_count": 10,
   "id": "1ed07ef0",
   "metadata": {},
   "outputs": [
    {
     "data": {
      "text/plain": [
       "10840"
      ]
     },
     "execution_count": 10,
     "metadata": {},
     "output_type": "execute_result"
    }
   ],
   "source": [
    "len(df)"
   ]
  },
  {
   "cell_type": "code",
   "execution_count": 8,
   "id": "b8afa12b",
   "metadata": {},
   "outputs": [
    {
     "data": {
      "text/plain": [
       "Size              15.636531\n",
       "Rating            13.597786\n",
       "Current Ver        0.073801\n",
       "Android Ver        0.018450\n",
       "Type               0.009225\n",
       "App                0.000000\n",
       "Category           0.000000\n",
       "Reviews            0.000000\n",
       "Installs           0.000000\n",
       "Price              0.000000\n",
       "Content Rating     0.000000\n",
       "Genres             0.000000\n",
       "Last Updated       0.000000\n",
       "Day                0.000000\n",
       "Month              0.000000\n",
       "Year               0.000000\n",
       "dtype: float64"
      ]
     },
     "execution_count": 8,
     "metadata": {},
     "output_type": "execute_result"
    }
   ],
   "source": [
    "null_counts"
   ]
  },
  {
   "cell_type": "code",
   "execution_count": 15,
   "id": "cea8c278",
   "metadata": {},
   "outputs": [
    {
     "data": {
      "text/plain": [
       "16"
      ]
     },
     "execution_count": 15,
     "metadata": {},
     "output_type": "execute_result"
    }
   ],
   "source": [
    "len(null_counts)"
   ]
  },
  {
   "cell_type": "code",
   "execution_count": 18,
   "id": "aabd775f",
   "metadata": {},
   "outputs": [
    {
     "data": {
      "text/plain": [
       "[0, 1, 2, 3, 4, 5, 6, 7, 8, 9]"
      ]
     },
     "execution_count": 18,
     "metadata": {},
     "output_type": "execute_result"
    }
   ],
   "source": [
    "list(range(0,10))"
   ]
  },
  {
   "cell_type": "code",
   "execution_count": 16,
   "id": "c6591877",
   "metadata": {},
   "outputs": [
    {
     "data": {
      "text/plain": [
       "array([ 0,  1,  2,  3,  4,  5,  6,  7,  8,  9, 10, 11, 12, 13, 14, 15])"
      ]
     },
     "execution_count": 16,
     "metadata": {},
     "output_type": "execute_result"
    }
   ],
   "source": [
    "np.arange(len(null_counts))"
   ]
  },
  {
   "cell_type": "code",
   "execution_count": 5,
   "id": "5e60b028",
   "metadata": {},
   "outputs": [
    {
     "data": {
      "image/png": "[encoded data removed]",
      "text/plain": [
       "<Figure size 1152x576 with 1 Axes>"
      ]
     },
     "metadata": {
      "needs_background": "light"
     },
     "output_type": "display_data"
    }
   ],
   "source": [
    "null_counts = df.isna().sum().sort_values(ascending=False)/len(df)\n",
    "plt.figure(figsize=(16,8))\n",
    "plt.xticks(np.arange(len(null_counts))+0.5,null_counts.index,rotation='vertical')\n",
    "plt.ylabel('Fraction of rows with missing data')\n",
    "plt.bar(np.arange(len(null_counts)),null_counts)\n",
    "plt.show()"
   ]
  },
  {
   "cell_type": "markdown",
   "id": "84886b4f",
   "metadata": {},
   "source": [
    "### 2. Drop NA Values"
   ]
  },
  {
   "cell_type": "code",
   "execution_count": null,
   "id": "6eacbace",
   "metadata": {},
   "outputs": [],
   "source": [
    "#this is best practice to create a copy of the data"
   ]
  },
  {
   "cell_type": "code",
   "execution_count": 11,
   "id": "13c9ac58",
   "metadata": {},
   "outputs": [],
   "source": [
    "df_copy = df.copy()"
   ]
  },
  {
   "cell_type": "code",
   "execution_count": 19,
   "id": "37cc576e",
   "metadata": {},
   "outputs": [
    {
     "data": {
      "text/plain": [
       "['Rating', 'Size', 'Type', 'Current Ver', 'Android Ver']"
      ]
     },
     "execution_count": 19,
     "metadata": {},
     "output_type": "execute_result"
    }
   ],
   "source": [
    "cols = [var for var in df_copy.columns if df_copy[var].isnull().mean()*100]\n",
    "cols"
   ]
  },
  {
   "cell_type": "code",
   "execution_count": 14,
   "id": "3f01bad5",
   "metadata": {},
   "outputs": [
    {
     "data": {
      "text/plain": [
       "1695"
      ]
     },
     "execution_count": 14,
     "metadata": {},
     "output_type": "execute_result"
    }
   ],
   "source": [
    "df_copy[\"Size\"].isnull().sum()"
   ]
  },
  {
   "cell_type": "code",
   "execution_count": 22,
   "id": "1fe43ad4",
   "metadata": {},
   "outputs": [
    {
     "data": {
      "text/plain": [
       "15.636531365313653"
      ]
     },
     "execution_count": 22,
     "metadata": {},
     "output_type": "execute_result"
    }
   ],
   "source": [
    "df_copy[\"Size\"].isnull().mean()*100"
   ]
  },
  {
   "cell_type": "code",
   "execution_count": 24,
   "id": "b870f3ee",
   "metadata": {},
   "outputs": [
    {
     "data": {
      "text/plain": [
       "0.0"
      ]
     },
     "execution_count": 24,
     "metadata": {},
     "output_type": "execute_result"
    }
   ],
   "source": [
    "df_copy[\"Price\"].isnull().mean()*100"
   ]
  },
  {
   "cell_type": "code",
   "execution_count": 15,
   "id": "74ba42c3",
   "metadata": {},
   "outputs": [
    {
     "name": "stdout",
     "output_type": "stream",
     "text": [
      "no\n"
     ]
    }
   ],
   "source": [
    "if df_copy[\"Price\"].isnull().sum():\n",
    "    print(\"yes\")\n",
    "else:\n",
    "    print(\"no\")"
   ]
  },
  {
   "cell_type": "code",
   "execution_count": 26,
   "id": "e07c85f6",
   "metadata": {},
   "outputs": [
    {
     "name": "stdout",
     "output_type": "stream",
     "text": [
      "no\n"
     ]
    }
   ],
   "source": [
    "if df_copy[\"Price\"].isnull().mean()*100:\n",
    "    print(\"yes\")\n",
    "else:\n",
    "    print(\"no\")"
   ]
  },
  {
   "cell_type": "code",
   "execution_count": 28,
   "id": "6b90c83a",
   "metadata": {
    "scrolled": true
   },
   "outputs": [
    {
     "data": {
      "text/plain": [
       "1"
      ]
     },
     "execution_count": 28,
     "metadata": {},
     "output_type": "execute_result"
    }
   ],
   "source": [
    "False+True"
   ]
  },
  {
   "cell_type": "markdown",
   "id": "05ab7d92",
   "metadata": {},
   "source": [
    "## dropping missing values"
   ]
  },
  {
   "cell_type": "code",
   "execution_count": 16,
   "id": "2a567f3c",
   "metadata": {},
   "outputs": [
    {
     "data": {
      "text/plain": [
       "(10840, 16)"
      ]
     },
     "execution_count": 16,
     "metadata": {},
     "output_type": "execute_result"
    }
   ],
   "source": [
    "df.shape"
   ]
  },
  {
   "cell_type": "code",
   "execution_count": 17,
   "id": "a629bb19",
   "metadata": {},
   "outputs": [
    {
     "ename": "NameError",
     "evalue": "name 'drop_df' is not defined",
     "output_type": "error",
     "traceback": [
      "\u001b[1;31m---------------------------------------------------------------------------\u001b[0m",
      "\u001b[1;31mNameError\u001b[0m                                 Traceback (most recent call last)",
      "\u001b[1;32mc:\\Ml projects\\03. Google Play Store (Regression)\\HANDLING MISSING VALUES.ipynb Cell 37\u001b[0m line \u001b[0;36m1\n\u001b[1;32m----> <a href='vscode-notebook-cell:/c%3A/Ml%20projects/03.%20Google%20Play%20Store%20%28Regression%29/HANDLING%20MISSING%20VALUES.ipynb#X50sZmlsZQ%3D%3D?line=0'>1</a>\u001b[0m drop_df\u001b[39m.\u001b[39mshape\n",
      "\u001b[1;31mNameError\u001b[0m: name 'drop_df' is not defined"
     ]
    }
   ],
   "source": [
    "drop_df.shape"
   ]
  },
  {
   "cell_type": "code",
   "execution_count": 33,
   "id": "205a15a6",
   "metadata": {},
   "outputs": [
    {
     "data": {
      "text/plain": [
       "3117"
      ]
     },
     "execution_count": 33,
     "metadata": {},
     "output_type": "execute_result"
    }
   ],
   "source": [
    "10840-7723"
   ]
  },
  {
   "cell_type": "code",
   "execution_count": 20,
   "id": "887dcf1f",
   "metadata": {},
   "outputs": [
    {
     "data": {
      "text/html": [
       "<div>\n",
       "<style scoped>\n",
       "    .dataframe tbody tr th:only-of-type {\n",
       "        vertical-align: middle;\n",
       "    }\n",
       "\n",
       "    .dataframe tbody tr th {\n",
       "        vertical-align: top;\n",
       "    }\n",
       "\n",
       "    .dataframe thead th {\n",
       "        text-align: right;\n",
       "    }\n",
       "</style>\n",
       "<table border=\"1\" class=\"dataframe\">\n",
       "  <thead>\n",
       "    <tr style=\"text-align: right;\">\n",
       "      <th></th>\n",
       "      <th>Rating</th>\n",
       "      <th>Size</th>\n",
       "      <th>Type</th>\n",
       "      <th>Current Ver</th>\n",
       "      <th>Android Ver</th>\n",
       "    </tr>\n",
       "  </thead>\n",
       "  <tbody>\n",
       "    <tr>\n",
       "      <th>0</th>\n",
       "      <td>4.1</td>\n",
       "      <td>19.000</td>\n",
       "      <td>Free</td>\n",
       "      <td>1.0.0</td>\n",
       "      <td>4.0.3 and up</td>\n",
       "    </tr>\n",
       "    <tr>\n",
       "      <th>1</th>\n",
       "      <td>3.9</td>\n",
       "      <td>14.000</td>\n",
       "      <td>Free</td>\n",
       "      <td>2.0.0</td>\n",
       "      <td>4.0.3 and up</td>\n",
       "    </tr>\n",
       "    <tr>\n",
       "      <th>2</th>\n",
       "      <td>4.7</td>\n",
       "      <td>8.700</td>\n",
       "      <td>Free</td>\n",
       "      <td>1.2.4</td>\n",
       "      <td>4.0.3 and up</td>\n",
       "    </tr>\n",
       "    <tr>\n",
       "      <th>3</th>\n",
       "      <td>4.5</td>\n",
       "      <td>25.000</td>\n",
       "      <td>Free</td>\n",
       "      <td>Varies with device</td>\n",
       "      <td>4.2 and up</td>\n",
       "    </tr>\n",
       "    <tr>\n",
       "      <th>4</th>\n",
       "      <td>4.3</td>\n",
       "      <td>2.800</td>\n",
       "      <td>Free</td>\n",
       "      <td>1.1</td>\n",
       "      <td>4.4 and up</td>\n",
       "    </tr>\n",
       "    <tr>\n",
       "      <th>...</th>\n",
       "      <td>...</td>\n",
       "      <td>...</td>\n",
       "      <td>...</td>\n",
       "      <td>...</td>\n",
       "      <td>...</td>\n",
       "    </tr>\n",
       "    <tr>\n",
       "      <th>10832</th>\n",
       "      <td>4.8</td>\n",
       "      <td>0.619</td>\n",
       "      <td>Free</td>\n",
       "      <td>0.8</td>\n",
       "      <td>2.2 and up</td>\n",
       "    </tr>\n",
       "    <tr>\n",
       "      <th>10833</th>\n",
       "      <td>4.0</td>\n",
       "      <td>2.600</td>\n",
       "      <td>Free</td>\n",
       "      <td>1.0.0</td>\n",
       "      <td>4.1 and up</td>\n",
       "    </tr>\n",
       "    <tr>\n",
       "      <th>10835</th>\n",
       "      <td>4.5</td>\n",
       "      <td>53.000</td>\n",
       "      <td>Free</td>\n",
       "      <td>1.48</td>\n",
       "      <td>4.1 and up</td>\n",
       "    </tr>\n",
       "    <tr>\n",
       "      <th>10836</th>\n",
       "      <td>5.0</td>\n",
       "      <td>3.600</td>\n",
       "      <td>Free</td>\n",
       "      <td>1.0</td>\n",
       "      <td>4.1 and up</td>\n",
       "    </tr>\n",
       "    <tr>\n",
       "      <th>10839</th>\n",
       "      <td>4.5</td>\n",
       "      <td>19.000</td>\n",
       "      <td>Free</td>\n",
       "      <td>Varies with device</td>\n",
       "      <td>Varies with device</td>\n",
       "    </tr>\n",
       "  </tbody>\n",
       "</table>\n",
       "<p>7723 rows × 5 columns</p>\n",
       "</div>"
      ],
      "text/plain": [
       "       Rating    Size  Type         Current Ver         Android Ver\n",
       "0         4.1  19.000  Free               1.0.0        4.0.3 and up\n",
       "1         3.9  14.000  Free               2.0.0        4.0.3 and up\n",
       "2         4.7   8.700  Free               1.2.4        4.0.3 and up\n",
       "3         4.5  25.000  Free  Varies with device          4.2 and up\n",
       "4         4.3   2.800  Free                 1.1          4.4 and up\n",
       "...       ...     ...   ...                 ...                 ...\n",
       "10832     4.8   0.619  Free                 0.8          2.2 and up\n",
       "10833     4.0   2.600  Free               1.0.0          4.1 and up\n",
       "10835     4.5  53.000  Free                1.48          4.1 and up\n",
       "10836     5.0   3.600  Free                 1.0          4.1 and up\n",
       "10839     4.5  19.000  Free  Varies with device  Varies with device\n",
       "\n",
       "[7723 rows x 5 columns]"
      ]
     },
     "execution_count": 20,
     "metadata": {},
     "output_type": "execute_result"
    }
   ],
   "source": [
    "drop_df = df_copy[cols].dropna()\n",
    "drop_df"
   ]
  },
  {
   "cell_type": "code",
   "execution_count": 9,
   "id": "2b7b66dd",
   "metadata": {},
   "outputs": [
    {
     "data": {
      "text/plain": [
       "((10840, 16), (7723, 5))"
      ]
     },
     "execution_count": 9,
     "metadata": {},
     "output_type": "execute_result"
    }
   ],
   "source": [
    "df_copy.shape, drop_df.shape"
   ]
  },
  {
   "cell_type": "code",
   "execution_count": 21,
   "id": "f9208c5f",
   "metadata": {},
   "outputs": [
    {
     "data": {
      "text/plain": [
       "Rating         0\n",
       "Size           0\n",
       "Type           0\n",
       "Current Ver    0\n",
       "Android Ver    0\n",
       "dtype: int64"
      ]
     },
     "execution_count": 21,
     "metadata": {},
     "output_type": "execute_result"
    }
   ],
   "source": [
    "drop_df.isna().sum()"
   ]
  },
  {
   "cell_type": "code",
   "execution_count": 40,
   "id": "262ed1e2",
   "metadata": {},
   "outputs": [
    {
     "data": {
      "text/plain": [
       "<AxesSubplot:ylabel='Density'>"
      ]
     },
     "execution_count": 40,
     "metadata": {},
     "output_type": "execute_result"
    },
    {
     "data": {
      "text/plain": [
       "<Figure size 432x288 with 0 Axes>"
      ]
     },
     "metadata": {},
     "output_type": "display_data"
    },
    {
     "data": {
      "image/png": "[encoded data removed]",
      "text/plain": [
       "<Figure size 1080x504 with 4 Axes>"
      ]
     },
     "metadata": {
      "needs_background": "light"
     },
     "output_type": "display_data"
    }
   ],
   "source": [
    "fig= plt.figure()\n",
    "\n",
    "# density plot using seaborn library\n",
    "fig, axs = plt.subplots(2, 2, figsize=(15, 7))\n",
    "\n",
    "drop_df['Size'].plot.density(color='red',ax=axs[0, 0],alpha=0.5,label='Size')\n",
    "df_copy['Size'].plot.density(color='green',ax=axs[0, 0],alpha=0.5,label='Size')"
   ]
  },
  {
   "cell_type": "code",
   "execution_count": 22,
   "id": "2a39360d",
   "metadata": {},
   "outputs": [
    {
     "data": {
      "text/plain": [
       "<Figure size 640x480 with 0 Axes>"
      ]
     },
     "metadata": {},
     "output_type": "display_data"
    },
    {
     "data": {
      "image/png": "[encoded data removed]",
      "text/plain": [
       "<Figure size 1200x1200 with 4 Axes>"
      ]
     },
     "metadata": {},
     "output_type": "display_data"
    }
   ],
   "source": [
    "fig= plt.figure()\n",
    "\n",
    "# density plot using seaborn library\n",
    "fig, axs = plt.subplots(2, 2, figsize=(15, 7))\n",
    "\n",
    "drop_df['Size'].plot.density(color='red',ax=axs[0, 0],alpha=0.5,label='Size')\n",
    "df_copy['Size'].plot.density(color='green',ax=axs[0, 0],alpha=0.5,label='Size')\n",
    "drop_df['Rating'].plot.density(color='red',ax=axs[0, 1],alpha=0.5,label='Rating')\n",
    "df_copy['Rating'].plot.density(color='green',ax=axs[0, 1],alpha=0.5,label='Rating')\n",
    "drop_df['Size'].hist(bins=50,ax=axs[1, 0],density=True,figsize=(12,12),color='red')\n",
    "df_copy['Size'].hist(bins=50,ax=axs[1, 0],density=True,figsize=(12,12),color='green', alpha=0.8)\n",
    "drop_df['Rating'].hist(bins=50,ax=axs[1, 1],density=True,figsize=(12,12),color='red')\n",
    "df_copy['Rating'].hist(bins=50,ax=axs[1, 1],density=True,figsize=(12,12),color='green', alpha=0.8)\n",
    "\n",
    "plt.show()"
   ]
  },
  {
   "cell_type": "markdown",
   "id": "b4121574",
   "metadata": {},
   "source": [
    "#### Insights\n",
    "-As we can observe from above plots\n",
    "- Drop NA Technique is changing our distribution pattern\n",
    "- So we reject Drop NA Technique"
   ]
  },
  {
   "cell_type": "markdown",
   "id": "3d41b70a",
   "metadata": {},
   "source": [
    "### 3. MEAN/MEDAIN Imputation"
   ]
  },
  {
   "cell_type": "code",
   "execution_count": 23,
   "id": "bfe4c4b1",
   "metadata": {},
   "outputs": [],
   "source": [
    "df_copy_me_mo = df.copy()"
   ]
  },
  {
   "cell_type": "code",
   "execution_count": 24,
   "id": "4c407d72",
   "metadata": {},
   "outputs": [
    {
     "data": {
      "text/html": [
       "<div>\n",
       "<style scoped>\n",
       "    .dataframe tbody tr th:only-of-type {\n",
       "        vertical-align: middle;\n",
       "    }\n",
       "\n",
       "    .dataframe tbody tr th {\n",
       "        vertical-align: top;\n",
       "    }\n",
       "\n",
       "    .dataframe thead th {\n",
       "        text-align: right;\n",
       "    }\n",
       "</style>\n",
       "<table border=\"1\" class=\"dataframe\">\n",
       "  <thead>\n",
       "    <tr style=\"text-align: right;\">\n",
       "      <th></th>\n",
       "      <th>App</th>\n",
       "      <th>Category</th>\n",
       "      <th>Rating</th>\n",
       "      <th>Reviews</th>\n",
       "      <th>Size</th>\n",
       "      <th>Installs</th>\n",
       "      <th>Type</th>\n",
       "      <th>Price</th>\n",
       "      <th>Content Rating</th>\n",
       "      <th>Genres</th>\n",
       "      <th>Last Updated</th>\n",
       "      <th>Current Ver</th>\n",
       "      <th>Android Ver</th>\n",
       "      <th>Day</th>\n",
       "      <th>Month</th>\n",
       "      <th>Year</th>\n",
       "    </tr>\n",
       "  </thead>\n",
       "  <tbody>\n",
       "    <tr>\n",
       "      <th>0</th>\n",
       "      <td>NaN</td>\n",
       "      <td>NaN</td>\n",
       "      <td>NaN</td>\n",
       "      <td>NaN</td>\n",
       "      <td>NaN</td>\n",
       "      <td>NaN</td>\n",
       "      <td>NaN</td>\n",
       "      <td>NaN</td>\n",
       "      <td>NaN</td>\n",
       "      <td>NaN</td>\n",
       "      <td>NaN</td>\n",
       "      <td>NaN</td>\n",
       "      <td>NaN</td>\n",
       "      <td>NaN</td>\n",
       "      <td>NaN</td>\n",
       "      <td>NaN</td>\n",
       "    </tr>\n",
       "    <tr>\n",
       "      <th>1</th>\n",
       "      <td>NaN</td>\n",
       "      <td>NaN</td>\n",
       "      <td>NaN</td>\n",
       "      <td>NaN</td>\n",
       "      <td>NaN</td>\n",
       "      <td>NaN</td>\n",
       "      <td>NaN</td>\n",
       "      <td>NaN</td>\n",
       "      <td>NaN</td>\n",
       "      <td>NaN</td>\n",
       "      <td>NaN</td>\n",
       "      <td>NaN</td>\n",
       "      <td>NaN</td>\n",
       "      <td>NaN</td>\n",
       "      <td>NaN</td>\n",
       "      <td>NaN</td>\n",
       "    </tr>\n",
       "    <tr>\n",
       "      <th>2</th>\n",
       "      <td>NaN</td>\n",
       "      <td>NaN</td>\n",
       "      <td>NaN</td>\n",
       "      <td>NaN</td>\n",
       "      <td>NaN</td>\n",
       "      <td>NaN</td>\n",
       "      <td>NaN</td>\n",
       "      <td>NaN</td>\n",
       "      <td>NaN</td>\n",
       "      <td>NaN</td>\n",
       "      <td>NaN</td>\n",
       "      <td>NaN</td>\n",
       "      <td>NaN</td>\n",
       "      <td>NaN</td>\n",
       "      <td>NaN</td>\n",
       "      <td>NaN</td>\n",
       "    </tr>\n",
       "    <tr>\n",
       "      <th>3</th>\n",
       "      <td>NaN</td>\n",
       "      <td>NaN</td>\n",
       "      <td>NaN</td>\n",
       "      <td>NaN</td>\n",
       "      <td>NaN</td>\n",
       "      <td>NaN</td>\n",
       "      <td>NaN</td>\n",
       "      <td>NaN</td>\n",
       "      <td>NaN</td>\n",
       "      <td>NaN</td>\n",
       "      <td>NaN</td>\n",
       "      <td>NaN</td>\n",
       "      <td>NaN</td>\n",
       "      <td>NaN</td>\n",
       "      <td>NaN</td>\n",
       "      <td>NaN</td>\n",
       "    </tr>\n",
       "    <tr>\n",
       "      <th>4</th>\n",
       "      <td>NaN</td>\n",
       "      <td>NaN</td>\n",
       "      <td>NaN</td>\n",
       "      <td>NaN</td>\n",
       "      <td>NaN</td>\n",
       "      <td>NaN</td>\n",
       "      <td>NaN</td>\n",
       "      <td>NaN</td>\n",
       "      <td>NaN</td>\n",
       "      <td>NaN</td>\n",
       "      <td>NaN</td>\n",
       "      <td>NaN</td>\n",
       "      <td>NaN</td>\n",
       "      <td>NaN</td>\n",
       "      <td>NaN</td>\n",
       "      <td>NaN</td>\n",
       "    </tr>\n",
       "    <tr>\n",
       "      <th>...</th>\n",
       "      <td>...</td>\n",
       "      <td>...</td>\n",
       "      <td>...</td>\n",
       "      <td>...</td>\n",
       "      <td>...</td>\n",
       "      <td>...</td>\n",
       "      <td>...</td>\n",
       "      <td>...</td>\n",
       "      <td>...</td>\n",
       "      <td>...</td>\n",
       "      <td>...</td>\n",
       "      <td>...</td>\n",
       "      <td>...</td>\n",
       "      <td>...</td>\n",
       "      <td>...</td>\n",
       "      <td>...</td>\n",
       "    </tr>\n",
       "    <tr>\n",
       "      <th>10835</th>\n",
       "      <td>NaN</td>\n",
       "      <td>NaN</td>\n",
       "      <td>NaN</td>\n",
       "      <td>NaN</td>\n",
       "      <td>NaN</td>\n",
       "      <td>NaN</td>\n",
       "      <td>NaN</td>\n",
       "      <td>NaN</td>\n",
       "      <td>NaN</td>\n",
       "      <td>NaN</td>\n",
       "      <td>NaN</td>\n",
       "      <td>NaN</td>\n",
       "      <td>NaN</td>\n",
       "      <td>NaN</td>\n",
       "      <td>NaN</td>\n",
       "      <td>NaN</td>\n",
       "    </tr>\n",
       "    <tr>\n",
       "      <th>10836</th>\n",
       "      <td>NaN</td>\n",
       "      <td>NaN</td>\n",
       "      <td>NaN</td>\n",
       "      <td>NaN</td>\n",
       "      <td>NaN</td>\n",
       "      <td>NaN</td>\n",
       "      <td>NaN</td>\n",
       "      <td>NaN</td>\n",
       "      <td>NaN</td>\n",
       "      <td>NaN</td>\n",
       "      <td>NaN</td>\n",
       "      <td>NaN</td>\n",
       "      <td>NaN</td>\n",
       "      <td>NaN</td>\n",
       "      <td>NaN</td>\n",
       "      <td>NaN</td>\n",
       "    </tr>\n",
       "    <tr>\n",
       "      <th>10837</th>\n",
       "      <td>NaN</td>\n",
       "      <td>NaN</td>\n",
       "      <td>NaN</td>\n",
       "      <td>NaN</td>\n",
       "      <td>NaN</td>\n",
       "      <td>NaN</td>\n",
       "      <td>NaN</td>\n",
       "      <td>NaN</td>\n",
       "      <td>NaN</td>\n",
       "      <td>NaN</td>\n",
       "      <td>NaN</td>\n",
       "      <td>NaN</td>\n",
       "      <td>NaN</td>\n",
       "      <td>NaN</td>\n",
       "      <td>NaN</td>\n",
       "      <td>NaN</td>\n",
       "    </tr>\n",
       "    <tr>\n",
       "      <th>10838</th>\n",
       "      <td>NaN</td>\n",
       "      <td>NaN</td>\n",
       "      <td>NaN</td>\n",
       "      <td>NaN</td>\n",
       "      <td>NaN</td>\n",
       "      <td>NaN</td>\n",
       "      <td>NaN</td>\n",
       "      <td>NaN</td>\n",
       "      <td>NaN</td>\n",
       "      <td>NaN</td>\n",
       "      <td>NaN</td>\n",
       "      <td>NaN</td>\n",
       "      <td>NaN</td>\n",
       "      <td>NaN</td>\n",
       "      <td>NaN</td>\n",
       "      <td>NaN</td>\n",
       "    </tr>\n",
       "    <tr>\n",
       "      <th>10839</th>\n",
       "      <td>NaN</td>\n",
       "      <td>NaN</td>\n",
       "      <td>NaN</td>\n",
       "      <td>NaN</td>\n",
       "      <td>NaN</td>\n",
       "      <td>NaN</td>\n",
       "      <td>NaN</td>\n",
       "      <td>NaN</td>\n",
       "      <td>NaN</td>\n",
       "      <td>NaN</td>\n",
       "      <td>NaN</td>\n",
       "      <td>NaN</td>\n",
       "      <td>NaN</td>\n",
       "      <td>NaN</td>\n",
       "      <td>NaN</td>\n",
       "      <td>NaN</td>\n",
       "    </tr>\n",
       "  </tbody>\n",
       "</table>\n",
       "<p>10840 rows × 16 columns</p>\n",
       "</div>"
      ],
      "text/plain": [
       "       App Category  Rating  Reviews  Size  Installs Type  Price  \\\n",
       "0      NaN      NaN     NaN      NaN   NaN       NaN  NaN    NaN   \n",
       "1      NaN      NaN     NaN      NaN   NaN       NaN  NaN    NaN   \n",
       "2      NaN      NaN     NaN      NaN   NaN       NaN  NaN    NaN   \n",
       "3      NaN      NaN     NaN      NaN   NaN       NaN  NaN    NaN   \n",
       "4      NaN      NaN     NaN      NaN   NaN       NaN  NaN    NaN   \n",
       "...    ...      ...     ...      ...   ...       ...  ...    ...   \n",
       "10835  NaN      NaN     NaN      NaN   NaN       NaN  NaN    NaN   \n",
       "10836  NaN      NaN     NaN      NaN   NaN       NaN  NaN    NaN   \n",
       "10837  NaN      NaN     NaN      NaN   NaN       NaN  NaN    NaN   \n",
       "10838  NaN      NaN     NaN      NaN   NaN       NaN  NaN    NaN   \n",
       "10839  NaN      NaN     NaN      NaN   NaN       NaN  NaN    NaN   \n",
       "\n",
       "      Content Rating Genres Last Updated Current Ver Android Ver  Day  Month  \\\n",
       "0                NaN    NaN          NaN         NaN         NaN  NaN    NaN   \n",
       "1                NaN    NaN          NaN         NaN         NaN  NaN    NaN   \n",
       "2                NaN    NaN          NaN         NaN         NaN  NaN    NaN   \n",
       "3                NaN    NaN          NaN         NaN         NaN  NaN    NaN   \n",
       "4                NaN    NaN          NaN         NaN         NaN  NaN    NaN   \n",
       "...              ...    ...          ...         ...         ...  ...    ...   \n",
       "10835            NaN    NaN          NaN         NaN         NaN  NaN    NaN   \n",
       "10836            NaN    NaN          NaN         NaN         NaN  NaN    NaN   \n",
       "10837            NaN    NaN          NaN         NaN         NaN  NaN    NaN   \n",
       "10838            NaN    NaN          NaN         NaN         NaN  NaN    NaN   \n",
       "10839            NaN    NaN          NaN         NaN         NaN  NaN    NaN   \n",
       "\n",
       "       Year  \n",
       "0       NaN  \n",
       "1       NaN  \n",
       "2       NaN  \n",
       "3       NaN  \n",
       "4       NaN  \n",
       "...     ...  \n",
       "10835   NaN  \n",
       "10836   NaN  \n",
       "10837   NaN  \n",
       "10838   NaN  \n",
       "10839   NaN  \n",
       "\n",
       "[10840 rows x 16 columns]"
      ]
     },
     "execution_count": 24,
     "metadata": {},
     "output_type": "execute_result"
    }
   ],
   "source": [
    "df_copy_me_mo[df_copy_me_mo.isnull()]"
   ]
  },
  {
   "cell_type": "code",
   "execution_count": 25,
   "id": "1fadd39e",
   "metadata": {},
   "outputs": [
    {
     "data": {
      "text/html": [
       "<div>\n",
       "<style scoped>\n",
       "    .dataframe tbody tr th:only-of-type {\n",
       "        vertical-align: middle;\n",
       "    }\n",
       "\n",
       "    .dataframe tbody tr th {\n",
       "        vertical-align: top;\n",
       "    }\n",
       "\n",
       "    .dataframe thead th {\n",
       "        text-align: right;\n",
       "    }\n",
       "</style>\n",
       "<table border=\"1\" class=\"dataframe\">\n",
       "  <thead>\n",
       "    <tr style=\"text-align: right;\">\n",
       "      <th></th>\n",
       "      <th>App</th>\n",
       "      <th>Category</th>\n",
       "      <th>Rating</th>\n",
       "      <th>Reviews</th>\n",
       "      <th>Size</th>\n",
       "      <th>Installs</th>\n",
       "      <th>Type</th>\n",
       "      <th>Price</th>\n",
       "      <th>Content Rating</th>\n",
       "      <th>Genres</th>\n",
       "      <th>Last Updated</th>\n",
       "      <th>Current Ver</th>\n",
       "      <th>Android Ver</th>\n",
       "      <th>Day</th>\n",
       "      <th>Month</th>\n",
       "      <th>Year</th>\n",
       "    </tr>\n",
       "  </thead>\n",
       "  <tbody>\n",
       "    <tr>\n",
       "      <th>37</th>\n",
       "      <td>Floor Plan Creator</td>\n",
       "      <td>ART_AND_DESIGN</td>\n",
       "      <td>4.1</td>\n",
       "      <td>36639</td>\n",
       "      <td>NaN</td>\n",
       "      <td>5000000</td>\n",
       "      <td>Free</td>\n",
       "      <td>0.0</td>\n",
       "      <td>Everyone</td>\n",
       "      <td>Art &amp; Design</td>\n",
       "      <td>2018-07-14</td>\n",
       "      <td>Varies with device</td>\n",
       "      <td>2.3.3 and up</td>\n",
       "      <td>14</td>\n",
       "      <td>7</td>\n",
       "      <td>2018</td>\n",
       "    </tr>\n",
       "    <tr>\n",
       "      <th>42</th>\n",
       "      <td>Textgram - write on photos</td>\n",
       "      <td>ART_AND_DESIGN</td>\n",
       "      <td>4.4</td>\n",
       "      <td>295221</td>\n",
       "      <td>NaN</td>\n",
       "      <td>10000000</td>\n",
       "      <td>Free</td>\n",
       "      <td>0.0</td>\n",
       "      <td>Everyone</td>\n",
       "      <td>Art &amp; Design</td>\n",
       "      <td>2018-07-30</td>\n",
       "      <td>Varies with device</td>\n",
       "      <td>Varies with device</td>\n",
       "      <td>30</td>\n",
       "      <td>7</td>\n",
       "      <td>2018</td>\n",
       "    </tr>\n",
       "    <tr>\n",
       "      <th>52</th>\n",
       "      <td>Used Cars and Trucks for Sale</td>\n",
       "      <td>AUTO_AND_VEHICLES</td>\n",
       "      <td>4.6</td>\n",
       "      <td>17057</td>\n",
       "      <td>NaN</td>\n",
       "      <td>1000000</td>\n",
       "      <td>Free</td>\n",
       "      <td>0.0</td>\n",
       "      <td>Everyone</td>\n",
       "      <td>Auto &amp; Vehicles</td>\n",
       "      <td>2018-07-30</td>\n",
       "      <td>Varies with device</td>\n",
       "      <td>Varies with device</td>\n",
       "      <td>30</td>\n",
       "      <td>7</td>\n",
       "      <td>2018</td>\n",
       "    </tr>\n",
       "    <tr>\n",
       "      <th>67</th>\n",
       "      <td>Ulysse Speedometer</td>\n",
       "      <td>AUTO_AND_VEHICLES</td>\n",
       "      <td>4.3</td>\n",
       "      <td>40211</td>\n",
       "      <td>NaN</td>\n",
       "      <td>5000000</td>\n",
       "      <td>Free</td>\n",
       "      <td>0.0</td>\n",
       "      <td>Everyone</td>\n",
       "      <td>Auto &amp; Vehicles</td>\n",
       "      <td>2018-07-30</td>\n",
       "      <td>Varies with device</td>\n",
       "      <td>Varies with device</td>\n",
       "      <td>30</td>\n",
       "      <td>7</td>\n",
       "      <td>2018</td>\n",
       "    </tr>\n",
       "    <tr>\n",
       "      <th>68</th>\n",
       "      <td>REPUVE</td>\n",
       "      <td>AUTO_AND_VEHICLES</td>\n",
       "      <td>3.9</td>\n",
       "      <td>356</td>\n",
       "      <td>NaN</td>\n",
       "      <td>100000</td>\n",
       "      <td>Free</td>\n",
       "      <td>0.0</td>\n",
       "      <td>Everyone</td>\n",
       "      <td>Auto &amp; Vehicles</td>\n",
       "      <td>2018-05-25</td>\n",
       "      <td>Varies with device</td>\n",
       "      <td>Varies with device</td>\n",
       "      <td>25</td>\n",
       "      <td>5</td>\n",
       "      <td>2018</td>\n",
       "    </tr>\n",
       "    <tr>\n",
       "      <th>...</th>\n",
       "      <td>...</td>\n",
       "      <td>...</td>\n",
       "      <td>...</td>\n",
       "      <td>...</td>\n",
       "      <td>...</td>\n",
       "      <td>...</td>\n",
       "      <td>...</td>\n",
       "      <td>...</td>\n",
       "      <td>...</td>\n",
       "      <td>...</td>\n",
       "      <td>...</td>\n",
       "      <td>...</td>\n",
       "      <td>...</td>\n",
       "      <td>...</td>\n",
       "      <td>...</td>\n",
       "      <td>...</td>\n",
       "    </tr>\n",
       "    <tr>\n",
       "      <th>10712</th>\n",
       "      <td>My Earthquake Alerts - US &amp; Worldwide Earthquakes</td>\n",
       "      <td>WEATHER</td>\n",
       "      <td>4.4</td>\n",
       "      <td>3471</td>\n",
       "      <td>NaN</td>\n",
       "      <td>100000</td>\n",
       "      <td>Free</td>\n",
       "      <td>0.0</td>\n",
       "      <td>Everyone</td>\n",
       "      <td>Weather</td>\n",
       "      <td>2018-07-24</td>\n",
       "      <td>Varies with device</td>\n",
       "      <td>Varies with device</td>\n",
       "      <td>24</td>\n",
       "      <td>7</td>\n",
       "      <td>2018</td>\n",
       "    </tr>\n",
       "    <tr>\n",
       "      <th>10724</th>\n",
       "      <td>Posta App</td>\n",
       "      <td>MAPS_AND_NAVIGATION</td>\n",
       "      <td>3.6</td>\n",
       "      <td>8</td>\n",
       "      <td>NaN</td>\n",
       "      <td>1000</td>\n",
       "      <td>Free</td>\n",
       "      <td>0.0</td>\n",
       "      <td>Everyone</td>\n",
       "      <td>Maps &amp; Navigation</td>\n",
       "      <td>2017-09-27</td>\n",
       "      <td>Varies with device</td>\n",
       "      <td>4.4 and up</td>\n",
       "      <td>27</td>\n",
       "      <td>9</td>\n",
       "      <td>2017</td>\n",
       "    </tr>\n",
       "    <tr>\n",
       "      <th>10764</th>\n",
       "      <td>Chat For Strangers - Video Chat</td>\n",
       "      <td>SOCIAL</td>\n",
       "      <td>3.4</td>\n",
       "      <td>622</td>\n",
       "      <td>NaN</td>\n",
       "      <td>100000</td>\n",
       "      <td>Free</td>\n",
       "      <td>0.0</td>\n",
       "      <td>Mature 17+</td>\n",
       "      <td>Social</td>\n",
       "      <td>2018-05-23</td>\n",
       "      <td>Varies with device</td>\n",
       "      <td>Varies with device</td>\n",
       "      <td>23</td>\n",
       "      <td>5</td>\n",
       "      <td>2018</td>\n",
       "    </tr>\n",
       "    <tr>\n",
       "      <th>10825</th>\n",
       "      <td>Frim: get new friends on local chat rooms</td>\n",
       "      <td>SOCIAL</td>\n",
       "      <td>4.0</td>\n",
       "      <td>88486</td>\n",
       "      <td>NaN</td>\n",
       "      <td>5000000</td>\n",
       "      <td>Free</td>\n",
       "      <td>0.0</td>\n",
       "      <td>Mature 17+</td>\n",
       "      <td>Social</td>\n",
       "      <td>2018-03-23</td>\n",
       "      <td>Varies with device</td>\n",
       "      <td>Varies with device</td>\n",
       "      <td>23</td>\n",
       "      <td>3</td>\n",
       "      <td>2018</td>\n",
       "    </tr>\n",
       "    <tr>\n",
       "      <th>10838</th>\n",
       "      <td>The SCP Foundation DB fr nn5n</td>\n",
       "      <td>BOOKS_AND_REFERENCE</td>\n",
       "      <td>4.5</td>\n",
       "      <td>114</td>\n",
       "      <td>NaN</td>\n",
       "      <td>1000</td>\n",
       "      <td>Free</td>\n",
       "      <td>0.0</td>\n",
       "      <td>Mature 17+</td>\n",
       "      <td>Books &amp; Reference</td>\n",
       "      <td>2015-01-19</td>\n",
       "      <td>Varies with device</td>\n",
       "      <td>Varies with device</td>\n",
       "      <td>19</td>\n",
       "      <td>1</td>\n",
       "      <td>2015</td>\n",
       "    </tr>\n",
       "  </tbody>\n",
       "</table>\n",
       "<p>1695 rows × 16 columns</p>\n",
       "</div>"
      ],
      "text/plain": [
       "                                                     App             Category  \\\n",
       "37                                    Floor Plan Creator       ART_AND_DESIGN   \n",
       "42                            Textgram - write on photos       ART_AND_DESIGN   \n",
       "52                         Used Cars and Trucks for Sale    AUTO_AND_VEHICLES   \n",
       "67                                    Ulysse Speedometer    AUTO_AND_VEHICLES   \n",
       "68                                                REPUVE    AUTO_AND_VEHICLES   \n",
       "...                                                  ...                  ...   \n",
       "10712  My Earthquake Alerts - US & Worldwide Earthquakes              WEATHER   \n",
       "10724                                          Posta App  MAPS_AND_NAVIGATION   \n",
       "10764                    Chat For Strangers - Video Chat               SOCIAL   \n",
       "10825          Frim: get new friends on local chat rooms               SOCIAL   \n",
       "10838                      The SCP Foundation DB fr nn5n  BOOKS_AND_REFERENCE   \n",
       "\n",
       "       Rating  Reviews  Size  Installs  Type  Price Content Rating  \\\n",
       "37        4.1    36639   NaN   5000000  Free    0.0       Everyone   \n",
       "42        4.4   295221   NaN  10000000  Free    0.0       Everyone   \n",
       "52        4.6    17057   NaN   1000000  Free    0.0       Everyone   \n",
       "67        4.3    40211   NaN   5000000  Free    0.0       Everyone   \n",
       "68        3.9      356   NaN    100000  Free    0.0       Everyone   \n",
       "...       ...      ...   ...       ...   ...    ...            ...   \n",
       "10712     4.4     3471   NaN    100000  Free    0.0       Everyone   \n",
       "10724     3.6        8   NaN      1000  Free    0.0       Everyone   \n",
       "10764     3.4      622   NaN    100000  Free    0.0     Mature 17+   \n",
       "10825     4.0    88486   NaN   5000000  Free    0.0     Mature 17+   \n",
       "10838     4.5      114   NaN      1000  Free    0.0     Mature 17+   \n",
       "\n",
       "                  Genres Last Updated         Current Ver         Android Ver  \\\n",
       "37          Art & Design   2018-07-14  Varies with device        2.3.3 and up   \n",
       "42          Art & Design   2018-07-30  Varies with device  Varies with device   \n",
       "52       Auto & Vehicles   2018-07-30  Varies with device  Varies with device   \n",
       "67       Auto & Vehicles   2018-07-30  Varies with device  Varies with device   \n",
       "68       Auto & Vehicles   2018-05-25  Varies with device  Varies with device   \n",
       "...                  ...          ...                 ...                 ...   \n",
       "10712            Weather   2018-07-24  Varies with device  Varies with device   \n",
       "10724  Maps & Navigation   2017-09-27  Varies with device          4.4 and up   \n",
       "10764             Social   2018-05-23  Varies with device  Varies with device   \n",
       "10825             Social   2018-03-23  Varies with device  Varies with device   \n",
       "10838  Books & Reference   2015-01-19  Varies with device  Varies with device   \n",
       "\n",
       "       Day  Month  Year  \n",
       "37      14      7  2018  \n",
       "42      30      7  2018  \n",
       "52      30      7  2018  \n",
       "67      30      7  2018  \n",
       "68      25      5  2018  \n",
       "...    ...    ...   ...  \n",
       "10712   24      7  2018  \n",
       "10724   27      9  2017  \n",
       "10764   23      5  2018  \n",
       "10825   23      3  2018  \n",
       "10838   19      1  2015  \n",
       "\n",
       "[1695 rows x 16 columns]"
      ]
     },
     "execution_count": 25,
     "metadata": {},
     "output_type": "execute_result"
    }
   ],
   "source": [
    "df_copy_me_mo[df_copy_me_mo['Size'].isnull()]\n"
   ]
  },
  {
   "cell_type": "code",
   "execution_count": 26,
   "id": "13479444",
   "metadata": {},
   "outputs": [
    {
     "data": {
      "text/plain": [
       "21.506534062329145"
      ]
     },
     "execution_count": 26,
     "metadata": {},
     "output_type": "execute_result"
    }
   ],
   "source": [
    "df_copy_me_mo['Size'].mean()"
   ]
  },
  {
   "cell_type": "code",
   "execution_count": 27,
   "id": "509a360e",
   "metadata": {},
   "outputs": [],
   "source": [
    "df_copy_me_mo['mean_Size'] = df_copy_me_mo['Size'].fillna(df_copy_me_mo['Size'].mean())"
   ]
  },
  {
   "cell_type": "code",
   "execution_count": 28,
   "id": "0b5393db",
   "metadata": {},
   "outputs": [],
   "source": [
    "df_copy_me_mo['mean_Size'] = df_copy_me_mo['Size'].fillna(df_copy_me_mo['Size'].mean())\n",
    "df_copy_me_mo['median_Size'] = df_copy_me_mo['Size'].fillna(df_copy_me_mo['Size'].median())\n",
    "df_copy_me_mo['mean_Rating'] = df_copy_me_mo['Rating'].fillna(df_copy_me_mo['Rating'].mean())\n",
    "df_copy_me_mo['median_Rating'] = df_copy_me_mo['Rating'].fillna(df_copy_me_mo['Rating'].median())"
   ]
  },
  {
   "cell_type": "code",
   "execution_count": null,
   "id": "b9c8f266",
   "metadata": {},
   "outputs": [],
   "source": []
  },
  {
   "cell_type": "code",
   "execution_count": 60,
   "id": "90970c1b",
   "metadata": {},
   "outputs": [
    {
     "name": "stdout",
     "output_type": "stream",
     "text": [
      "Original Size Variance 510.5801557864865\n"
     ]
    }
   ],
   "source": [
    "print('Original Size Variance', df_copy_me_mo['Size'].var())"
   ]
  },
  {
   "cell_type": "code",
   "execution_count": 61,
   "id": "a88321c3",
   "metadata": {},
   "outputs": [
    {
     "name": "stdout",
     "output_type": "stream",
     "text": [
      "Size Variance After mean imputation 430.7357638630519\n"
     ]
    }
   ],
   "source": [
    "print('Size Variance After mean imputation', df_copy_me_mo['mean_Size'].var())"
   ]
  },
  {
   "cell_type": "code",
   "execution_count": 62,
   "id": "b20c06d0",
   "metadata": {},
   "outputs": [
    {
     "name": "stdout",
     "output_type": "stream",
     "text": [
      "Size Variance After median imputation 440.28217654605237\n"
     ]
    }
   ],
   "source": [
    "print('Size Variance After median imputation', df_copy_me_mo['median_Size'].var())"
   ]
  },
  {
   "cell_type": "markdown",
   "id": "f0e4173f",
   "metadata": {},
   "source": [
    "## mean will be a good option, as less variance\n"
   ]
  },
  {
   "cell_type": "code",
   "execution_count": 63,
   "id": "307b04de",
   "metadata": {},
   "outputs": [
    {
     "name": "stdout",
     "output_type": "stream",
     "text": [
      "Original Rating Variance 0.26545047227541496\n",
      "Rating Variance After mean imputation 0.22935175503821595\n",
      "Rating Variance After median imputation 0.23072842363353122\n"
     ]
    }
   ],
   "source": [
    "print('Original Rating Variance', df_copy_me_mo['Rating'].var())\n",
    "print('Rating Variance After mean imputation', df_copy_me_mo['mean_Rating'].var())\n",
    "print('Rating Variance After median imputation', df_copy_me_mo['median_Rating'].var())"
   ]
  },
  {
   "cell_type": "markdown",
   "id": "2e69f717",
   "metadata": {},
   "source": [
    "#### Insights\n",
    "- As we can observe Variance is distorted after both mean and median imputation"
   ]
  },
  {
   "cell_type": "code",
   "execution_count": 64,
   "id": "de5b9b4c",
   "metadata": {},
   "outputs": [
    {
     "data": {
      "text/plain": [
       "<AxesSubplot:ylabel='Density'>"
      ]
     },
     "execution_count": 64,
     "metadata": {},
     "output_type": "execute_result"
    },
    {
     "data": {
      "image/png": "[encoded data removed]",
      "text/plain": [
       "<Figure size 432x288 with 1 Axes>"
      ]
     },
     "metadata": {
      "needs_background": "light"
     },
     "output_type": "display_data"
    }
   ],
   "source": [
    "df_copy_me_mo['Size'].plot.density()"
   ]
  },
  {
   "cell_type": "code",
   "execution_count": 65,
   "id": "b7b46588",
   "metadata": {},
   "outputs": [
    {
     "data": {
      "text/plain": [
       "<AxesSubplot:ylabel='Density'>"
      ]
     },
     "execution_count": 65,
     "metadata": {},
     "output_type": "execute_result"
    },
    {
     "data": {
      "image/png": "[encoded data removed]",
      "text/plain": [
       "<Figure size 432x288 with 1 Axes>"
      ]
     },
     "metadata": {
      "needs_background": "light"
     },
     "output_type": "display_data"
    }
   ],
   "source": [
    "df_copy_me_mo['mean_Size'].plot.density()"
   ]
  },
  {
   "cell_type": "code",
   "execution_count": 66,
   "id": "8f11f4c2",
   "metadata": {},
   "outputs": [
    {
     "data": {
      "text/plain": [
       "<AxesSubplot:ylabel='Density'>"
      ]
     },
     "execution_count": 66,
     "metadata": {},
     "output_type": "execute_result"
    },
    {
     "data": {
      "image/png": "[encoded data removed]",
      "text/plain": [
       "<Figure size 432x288 with 1 Axes>"
      ]
     },
     "metadata": {
      "needs_background": "light"
     },
     "output_type": "display_data"
    }
   ],
   "source": [
    "df_copy_me_mo['median_Size'].plot.density()"
   ]
  },
  {
   "cell_type": "code",
   "execution_count": 67,
   "id": "a1cd907b",
   "metadata": {},
   "outputs": [
    {
     "data": {
      "text/plain": [
       "<Figure size 432x288 with 0 Axes>"
      ]
     },
     "metadata": {},
     "output_type": "display_data"
    },
    {
     "data": {
      "image/png": "[encoded data removed]",
      "text/plain": [
       "<Figure size 864x864 with 4 Axes>"
      ]
     },
     "metadata": {
      "needs_background": "light"
     },
     "output_type": "display_data"
    }
   ],
   "source": [
    "fig= plt.figure()\n",
    "\n",
    "# density plot using seaborn library\n",
    "fig, axs = plt.subplots(2, 2, figsize=(15, 7))\n",
    "\n",
    "df_copy_me_mo['Size'].plot.density(color='blue',ax=axs[0, 0],alpha=0.5,label='Size')\n",
    "df_copy_me_mo['mean_Size'].plot.density(color='green',ax=axs[0, 0],alpha=0.5,label='mean_Size')\n",
    "df_copy_me_mo['median_Size'].plot.density(color='red',ax=axs[0, 0],alpha=0.5,label='median_Size')\n",
    "\n",
    "df_copy_me_mo['Rating'].plot.density(color='blue',ax=axs[0, 1],alpha=0.5,label='Rating')\n",
    "df_copy_me_mo['mean_Rating'].plot.density(color='green',ax=axs[0, 1],alpha=0.5,label='mean_Rating')\n",
    "df_copy_me_mo['median_Rating'].plot.density(color='red',ax=axs[0, 1],alpha=0.5,label='median_Rating')\n",
    "\n",
    "df_copy_me_mo['Size'].hist(bins=50,ax=axs[1, 0],density=True,figsize=(12,12),color='blue')\n",
    "df_copy_me_mo['mean_Size'].hist(bins=50,ax=axs[1, 0],density=True,figsize=(12,12),color='red')\n",
    "df_copy_me_mo['median_Size'].hist(bins=50,ax=axs[1, 0],density=True,figsize=(12,12),color='green', alpha=0.8)\n",
    "\n",
    "df_copy_me_mo['Rating'].hist(bins=50,ax=axs[1, 1],density=True,figsize=(12,12),color='blue')\n",
    "df_copy_me_mo['mean_Rating'].hist(bins=50,ax=axs[1, 1],density=True,figsize=(12,12),color='red')\n",
    "df_copy_me_mo['median_Rating'].hist(bins=50,ax=axs[1, 1],density=True,figsize=(12,12),color='green', alpha=0.8)\n",
    "\n",
    "\n",
    "plt.show()"
   ]
  },
  {
   "cell_type": "markdown",
   "id": "9a88b4c2",
   "metadata": {},
   "source": [
    "#### Insights\n",
    "-As we can observe from above plots\n",
    "- Mean and median imputation Technique is changing our distribution pattern.\n",
    "- So we will reject mean and median imputation Technique also."
   ]
  },
  {
   "cell_type": "markdown",
   "id": "ccb7966b",
   "metadata": {},
   "source": [
    "### 4. Random Sample Imputation"
   ]
  },
  {
   "cell_type": "code",
   "execution_count": 48,
   "id": "1929bc35",
   "metadata": {},
   "outputs": [],
   "source": [
    "df_random = df.copy()"
   ]
  },
  {
   "cell_type": "code",
   "execution_count": 31,
   "id": "426bc3a8",
   "metadata": {},
   "outputs": [
    {
     "data": {
      "text/plain": [
       "2505     11.000\n",
       "6157      5.100\n",
       "5822     15.000\n",
       "9932     67.000\n",
       "8477     19.000\n",
       "7979      4.600\n",
       "4884     11.000\n",
       "6662      9.000\n",
       "10506    99.000\n",
       "5834      2.900\n",
       "5037     15.000\n",
       "1043      6.100\n",
       "10053     6.300\n",
       "6824     88.000\n",
       "5963      0.717\n",
       "1657     46.000\n",
       "10437    37.000\n",
       "17       17.000\n",
       "3468      2.300\n",
       "2569     17.000\n",
       "Name: Size, dtype: float64"
      ]
     },
     "execution_count": 31,
     "metadata": {},
     "output_type": "execute_result"
    }
   ],
   "source": [
    "df_random['Size'].dropna().sample(20)"
   ]
  },
  {
   "cell_type": "code",
   "execution_count": 79,
   "id": "ecc38522",
   "metadata": {},
   "outputs": [
    {
     "ename": "TypeError",
     "evalue": "'RangeIndex' object is not callable",
     "output_type": "error",
     "traceback": [
      "\u001b[1;31m---------------------------------------------------------------------------\u001b[0m",
      "\u001b[1;31mTypeError\u001b[0m                                 Traceback (most recent call last)",
      "\u001b[1;32m~\\AppData\\Local\\Temp/ipykernel_13120/167045142.py\u001b[0m in \u001b[0;36m<module>\u001b[1;34m\u001b[0m\n\u001b[1;32m----> 1\u001b[1;33m \u001b[0mdf_random\u001b[0m\u001b[1;33m[\u001b[0m\u001b[1;34m'Size'\u001b[0m\u001b[1;33m]\u001b[0m\u001b[1;33m.\u001b[0m\u001b[0misnull\u001b[0m\u001b[1;33m(\u001b[0m\u001b[1;33m)\u001b[0m\u001b[1;33m.\u001b[0m\u001b[0mindex\u001b[0m\u001b[1;33m(\u001b[0m\u001b[1;33m)\u001b[0m\u001b[1;33m\u001b[0m\u001b[1;33m\u001b[0m\u001b[0m\n\u001b[0m",
      "\u001b[1;31mTypeError\u001b[0m: 'RangeIndex' object is not callable"
     ]
    }
   ],
   "source": [
    "[df_random['Size'].isnull().sum()"
   ]
  },
  {
   "cell_type": "code",
   "execution_count": 80,
   "id": "9bbe43e4",
   "metadata": {},
   "outputs": [
    {
     "data": {
      "text/plain": [
       "Int64Index([   37,    42,    52,    67,    68,    73,    85,    88,    89,\n",
       "               92,\n",
       "            ...\n",
       "            10646, 10678, 10680, 10706, 10711, 10712, 10724, 10764, 10825,\n",
       "            10838],\n",
       "           dtype='int64', length=1695)"
      ]
     },
     "execution_count": 80,
     "metadata": {},
     "output_type": "execute_result"
    }
   ],
   "source": [
    "df_random[df_random['Size'].isnull()].index"
   ]
  },
  {
   "cell_type": "code",
   "execution_count": 77,
   "id": "04314827",
   "metadata": {},
   "outputs": [
    {
     "data": {
      "text/plain": [
       "6865     3.400\n",
       "1889    87.000\n",
       "7365    27.000\n",
       "2523     0.975\n",
       "3857    11.000\n",
       "         ...  \n",
       "3358    12.000\n",
       "5733    43.000\n",
       "6997    24.000\n",
       "2471     3.500\n",
       "7983     5.000\n",
       "Name: Size, Length: 1695, dtype: float64"
      ]
     },
     "execution_count": 77,
     "metadata": {},
     "output_type": "execute_result"
    }
   ],
   "source": [
    "df_random['Size'].dropna().sample(1695)"
   ]
  },
  {
   "cell_type": "code",
   "execution_count": 32,
   "id": "1396c98e",
   "metadata": {},
   "outputs": [
    {
     "data": {
      "text/plain": [
       "Index(['App', 'Category', 'Rating', 'Reviews', 'Size', 'Installs', 'Type',\n",
       "       'Price', 'Content Rating', 'Genres', 'Last Updated', 'Current Ver',\n",
       "       'Android Ver', 'Day', 'Month', 'Year'],\n",
       "      dtype='object')"
      ]
     },
     "execution_count": 32,
     "metadata": {},
     "output_type": "execute_result"
    }
   ],
   "source": [
    "df_random.columns"
   ]
  },
  {
   "cell_type": "code",
   "execution_count": null,
   "id": "b4c1cd59",
   "metadata": {},
   "outputs": [],
   "source": [
    "df_random[feature].dropna().sample(df_random[feature].isnull().sum())"
   ]
  },
  {
   "cell_type": "code",
   "execution_count": 49,
   "id": "e833fc46",
   "metadata": {},
   "outputs": [
    {
     "data": {
      "text/plain": [
       "1695"
      ]
     },
     "execution_count": 49,
     "metadata": {},
     "output_type": "execute_result"
    }
   ],
   "source": [
    "df['Size'].isnull().sum()"
   ]
  },
  {
   "cell_type": "code",
   "execution_count": 50,
   "id": "55aab7f3",
   "metadata": {},
   "outputs": [
    {
     "data": {
      "text/plain": [
       "App                  0\n",
       "Category             0\n",
       "Rating            1474\n",
       "Reviews              0\n",
       "Size              1695\n",
       "Installs             0\n",
       "Type                 1\n",
       "Price                0\n",
       "Content Rating       0\n",
       "Genres               0\n",
       "Last Updated         0\n",
       "Current Ver          8\n",
       "Android Ver          2\n",
       "Day                  0\n",
       "Month                0\n",
       "Year                 0\n",
       "dtype: int64"
      ]
     },
     "execution_count": 50,
     "metadata": {},
     "output_type": "execute_result"
    }
   ],
   "source": [
    "df_random.isna().sum()"
   ]
  },
  {
   "cell_type": "code",
   "execution_count": 51,
   "id": "c568cdff",
   "metadata": {},
   "outputs": [],
   "source": [
    " random_sample=df_random['Size'].dropna().sample(df_random['Size'].isnull().sum()) "
   ]
  },
  {
   "cell_type": "code",
   "execution_count": 52,
   "id": "bfc27de9",
   "metadata": {},
   "outputs": [
    {
     "data": {
      "text/plain": [
       "10777    38.0\n",
       "9834     12.0\n",
       "7535      5.2\n",
       "1823     98.0\n",
       "4514     19.0\n",
       "         ... \n",
       "8749     76.0\n",
       "6649     21.0\n",
       "7873      1.4\n",
       "8617     30.0\n",
       "7384      5.1\n",
       "Name: Size, Length: 1695, dtype: float64"
      ]
     },
     "execution_count": 52,
     "metadata": {},
     "output_type": "execute_result"
    }
   ],
   "source": [
    "random_sample"
   ]
  },
  {
   "cell_type": "code",
   "execution_count": 54,
   "id": "6c8ecd87",
   "metadata": {},
   "outputs": [
    {
     "data": {
      "text/plain": [
       "Int64Index([   37,    42,    52,    67,    68,    73,    85,    88,    89,\n",
       "               92,\n",
       "            ...\n",
       "            10646, 10678, 10680, 10706, 10711, 10712, 10724, 10764, 10825,\n",
       "            10838],\n",
       "           dtype='int64', length=1695)"
      ]
     },
     "execution_count": 54,
     "metadata": {},
     "output_type": "execute_result"
    }
   ],
   "source": [
    "df_random[df_random['Size'].isnull()].index"
   ]
  },
  {
   "cell_type": "code",
   "execution_count": 33,
   "id": "be7acf6c",
   "metadata": {},
   "outputs": [],
   "source": [
    "def Random_Sample_imputation(feature):\n",
    "    random_sample=df_random[feature].dropna().sample(df_random[feature].isnull().sum())               \n",
    "    random_sample.index=df_random[df_random[feature].isnull()].index\n",
    "    df_random.loc[df_random[feature].isnull(),feature]=random_sample"
   ]
  },
  {
   "cell_type": "code",
   "execution_count": 36,
   "id": "a7e44d20",
   "metadata": {},
   "outputs": [
    {
     "ename": "NameError",
     "evalue": "name 'random_sample' is not defined",
     "output_type": "error",
     "traceback": [
      "\u001b[1;31m---------------------------------------------------------------------------\u001b[0m",
      "\u001b[1;31mNameError\u001b[0m                                 Traceback (most recent call last)",
      "\u001b[1;32mc:\\Ml projects\\03. Google Play Store (Regression)\\HANDLING MISSING VALUES.ipynb Cell 73\u001b[0m line \u001b[0;36m1\n\u001b[1;32m----> <a href='vscode-notebook-cell:/c%3A/Ml%20projects/03.%20Google%20Play%20Store%20%28Regression%29/HANDLING%20MISSING%20VALUES.ipynb#Y143sZmlsZQ%3D%3D?line=0'>1</a>\u001b[0m random_sample\n",
      "\u001b[1;31mNameError\u001b[0m: name 'random_sample' is not defined"
     ]
    }
   ],
   "source": []
  },
  {
   "cell_type": "code",
   "execution_count": 55,
   "id": "5d552449",
   "metadata": {},
   "outputs": [],
   "source": [
    "for col in df_random:\n",
    "    Random_Sample_imputation(col)"
   ]
  },
  {
   "cell_type": "code",
   "execution_count": 56,
   "id": "2f6b56c3",
   "metadata": {},
   "outputs": [
    {
     "name": "stdout",
     "output_type": "stream",
     "text": [
      "Original Size Variance 510.5801557864865\n",
      "Size Variance After Random imputation 514.6975199263072\n"
     ]
    }
   ],
   "source": [
    "print('Original Size Variance', df['Size'].var())\n",
    "print('Size Variance After Random imputation', df_random['Size'].var())"
   ]
  },
  {
   "cell_type": "code",
   "execution_count": 87,
   "id": "3f34f309",
   "metadata": {},
   "outputs": [
    {
     "name": "stdout",
     "output_type": "stream",
     "text": [
      "Original Size Variance 0.26545047227541496\n",
      "Size Variance After Rating imputation 0.26312297493096876\n"
     ]
    }
   ],
   "source": [
    "print('Original Size Variance', df['Rating'].var())\n",
    "print('Size Variance After Rating imputation', df_random['Rating'].var())"
   ]
  },
  {
   "cell_type": "code",
   "execution_count": 88,
   "id": "5812cbb6",
   "metadata": {},
   "outputs": [
    {
     "data": {
      "text/plain": [
       "<Figure size 432x288 with 0 Axes>"
      ]
     },
     "metadata": {},
     "output_type": "display_data"
    },
    {
     "data": {
      "image/png": "[encoded data removed]",
      "text/plain": [
       "<Figure size 864x864 with 4 Axes>"
      ]
     },
     "metadata": {
      "needs_background": "light"
     },
     "output_type": "display_data"
    }
   ],
   "source": [
    "fig= plt.figure()\n",
    "\n",
    "# density plot using seaborn library\n",
    "fig, axs = plt.subplots(2, 2, figsize=(15, 7))\n",
    "\n",
    "df['Size'].plot.density(color='red',ax=axs[0, 0],alpha=0.5,label='Size')\n",
    "df_random['Size'].plot.density(color='green',ax=axs[0, 0],alpha=0.5,label='Size')\n",
    "df['Rating'].plot.density(color='red',ax=axs[0, 1],alpha=0.5,label='Rating')\n",
    "df_random['Rating'].plot.density(color='green',ax=axs[0, 1],alpha=0.5,label='Rating')\n",
    "df['Size'].hist(bins=50,ax=axs[1, 0],density=True,figsize=(12,12),color='red')\n",
    "df_random['Size'].hist(bins=50,ax=axs[1, 0],density=True,figsize=(12,12),color='green', alpha=0.8)\n",
    "df['Rating'].hist(bins=50,ax=axs[1, 1],density=True,figsize=(12,12),color='red')\n",
    "df_random['Rating'].hist(bins=50,ax=axs[1, 1],density=True,figsize=(12,12),color='green', alpha=0.8)\n",
    "\n",
    "plt.show()"
   ]
  },
  {
   "cell_type": "code",
   "execution_count": 89,
   "id": "10233449",
   "metadata": {},
   "outputs": [
    {
     "data": {
      "text/html": [
       "<div>\n",
       "<style scoped>\n",
       "    .dataframe tbody tr th:only-of-type {\n",
       "        vertical-align: middle;\n",
       "    }\n",
       "\n",
       "    .dataframe tbody tr th {\n",
       "        vertical-align: top;\n",
       "    }\n",
       "\n",
       "    .dataframe thead th {\n",
       "        text-align: right;\n",
       "    }\n",
       "</style>\n",
       "<table border=\"1\" class=\"dataframe\">\n",
       "  <thead>\n",
       "    <tr style=\"text-align: right;\">\n",
       "      <th></th>\n",
       "      <th>Null Values</th>\n",
       "      <th>Percentage Null Values</th>\n",
       "    </tr>\n",
       "  </thead>\n",
       "  <tbody>\n",
       "    <tr>\n",
       "      <th>App</th>\n",
       "      <td>0</td>\n",
       "      <td>0.0</td>\n",
       "    </tr>\n",
       "    <tr>\n",
       "      <th>Category</th>\n",
       "      <td>0</td>\n",
       "      <td>0.0</td>\n",
       "    </tr>\n",
       "    <tr>\n",
       "      <th>Rating</th>\n",
       "      <td>0</td>\n",
       "      <td>0.0</td>\n",
       "    </tr>\n",
       "    <tr>\n",
       "      <th>Reviews</th>\n",
       "      <td>0</td>\n",
       "      <td>0.0</td>\n",
       "    </tr>\n",
       "    <tr>\n",
       "      <th>Size</th>\n",
       "      <td>0</td>\n",
       "      <td>0.0</td>\n",
       "    </tr>\n",
       "    <tr>\n",
       "      <th>Installs</th>\n",
       "      <td>0</td>\n",
       "      <td>0.0</td>\n",
       "    </tr>\n",
       "    <tr>\n",
       "      <th>Type</th>\n",
       "      <td>0</td>\n",
       "      <td>0.0</td>\n",
       "    </tr>\n",
       "    <tr>\n",
       "      <th>Price</th>\n",
       "      <td>0</td>\n",
       "      <td>0.0</td>\n",
       "    </tr>\n",
       "    <tr>\n",
       "      <th>Content Rating</th>\n",
       "      <td>0</td>\n",
       "      <td>0.0</td>\n",
       "    </tr>\n",
       "    <tr>\n",
       "      <th>Genres</th>\n",
       "      <td>0</td>\n",
       "      <td>0.0</td>\n",
       "    </tr>\n",
       "    <tr>\n",
       "      <th>Last Updated</th>\n",
       "      <td>0</td>\n",
       "      <td>0.0</td>\n",
       "    </tr>\n",
       "    <tr>\n",
       "      <th>Current Ver</th>\n",
       "      <td>0</td>\n",
       "      <td>0.0</td>\n",
       "    </tr>\n",
       "    <tr>\n",
       "      <th>Android Ver</th>\n",
       "      <td>0</td>\n",
       "      <td>0.0</td>\n",
       "    </tr>\n",
       "    <tr>\n",
       "      <th>Day</th>\n",
       "      <td>0</td>\n",
       "      <td>0.0</td>\n",
       "    </tr>\n",
       "    <tr>\n",
       "      <th>Month</th>\n",
       "      <td>0</td>\n",
       "      <td>0.0</td>\n",
       "    </tr>\n",
       "    <tr>\n",
       "      <th>Year</th>\n",
       "      <td>0</td>\n",
       "      <td>0.0</td>\n",
       "    </tr>\n",
       "  </tbody>\n",
       "</table>\n",
       "</div>"
      ],
      "text/plain": [
       "                Null Values  Percentage Null Values\n",
       "App                       0                     0.0\n",
       "Category                  0                     0.0\n",
       "Rating                    0                     0.0\n",
       "Reviews                   0                     0.0\n",
       "Size                      0                     0.0\n",
       "Installs                  0                     0.0\n",
       "Type                      0                     0.0\n",
       "Price                     0                     0.0\n",
       "Content Rating            0                     0.0\n",
       "Genres                    0                     0.0\n",
       "Last Updated              0                     0.0\n",
       "Current Ver               0                     0.0\n",
       "Android Ver               0                     0.0\n",
       "Day                       0                     0.0\n",
       "Month                     0                     0.0\n",
       "Year                      0                     0.0"
      ]
     },
     "execution_count": 89,
     "metadata": {},
     "output_type": "execute_result"
    }
   ],
   "source": [
    "null_df = pd.DataFrame({'Null Values' : df_random.isna().sum().sort_values(ascending=False), 'Percentage Null Values' : (df_random.isna().sum().sort_values(ascending=False)) / (df_random.shape[0]) * (100)})\n",
    "null_df"
   ]
  },
  {
   "cell_type": "markdown",
   "id": "cdfd81f1",
   "metadata": {},
   "source": [
    "#### Insights\n",
    "-As we can observe from above plots\n",
    "- Random Sample imputation Technique has no impact on distribution pattern.\n",
    "- So we will accept Random Sample imputation Technique ."
   ]
  },
  {
   "cell_type": "code",
   "execution_count": 57,
   "id": "af879dad",
   "metadata": {},
   "outputs": [
    {
     "data": {
      "text/html": [
       "<div>\n",
       "<style scoped>\n",
       "    .dataframe tbody tr th:only-of-type {\n",
       "        vertical-align: middle;\n",
       "    }\n",
       "\n",
       "    .dataframe tbody tr th {\n",
       "        vertical-align: top;\n",
       "    }\n",
       "\n",
       "    .dataframe thead th {\n",
       "        text-align: right;\n",
       "    }\n",
       "</style>\n",
       "<table border=\"1\" class=\"dataframe\">\n",
       "  <thead>\n",
       "    <tr style=\"text-align: right;\">\n",
       "      <th></th>\n",
       "      <th>Rating</th>\n",
       "      <th>Reviews</th>\n",
       "      <th>Size</th>\n",
       "      <th>Installs</th>\n",
       "      <th>Price</th>\n",
       "      <th>Day</th>\n",
       "      <th>Month</th>\n",
       "      <th>Year</th>\n",
       "    </tr>\n",
       "  </thead>\n",
       "  <tbody>\n",
       "    <tr>\n",
       "      <th>0</th>\n",
       "      <td>4.1</td>\n",
       "      <td>159</td>\n",
       "      <td>19.0</td>\n",
       "      <td>10000</td>\n",
       "      <td>0.0</td>\n",
       "      <td>7</td>\n",
       "      <td>1</td>\n",
       "      <td>2018</td>\n",
       "    </tr>\n",
       "    <tr>\n",
       "      <th>1</th>\n",
       "      <td>3.9</td>\n",
       "      <td>967</td>\n",
       "      <td>14.0</td>\n",
       "      <td>500000</td>\n",
       "      <td>0.0</td>\n",
       "      <td>15</td>\n",
       "      <td>1</td>\n",
       "      <td>2018</td>\n",
       "    </tr>\n",
       "    <tr>\n",
       "      <th>2</th>\n",
       "      <td>4.7</td>\n",
       "      <td>87510</td>\n",
       "      <td>8.7</td>\n",
       "      <td>5000000</td>\n",
       "      <td>0.0</td>\n",
       "      <td>1</td>\n",
       "      <td>8</td>\n",
       "      <td>2018</td>\n",
       "    </tr>\n",
       "    <tr>\n",
       "      <th>3</th>\n",
       "      <td>4.5</td>\n",
       "      <td>215644</td>\n",
       "      <td>25.0</td>\n",
       "      <td>50000000</td>\n",
       "      <td>0.0</td>\n",
       "      <td>8</td>\n",
       "      <td>6</td>\n",
       "      <td>2018</td>\n",
       "    </tr>\n",
       "    <tr>\n",
       "      <th>4</th>\n",
       "      <td>4.3</td>\n",
       "      <td>967</td>\n",
       "      <td>2.8</td>\n",
       "      <td>100000</td>\n",
       "      <td>0.0</td>\n",
       "      <td>20</td>\n",
       "      <td>6</td>\n",
       "      <td>2018</td>\n",
       "    </tr>\n",
       "  </tbody>\n",
       "</table>\n",
       "</div>"
      ],
      "text/plain": [
       "   Rating  Reviews  Size  Installs  Price  Day  Month  Year\n",
       "0     4.1      159  19.0     10000    0.0    7      1  2018\n",
       "1     3.9      967  14.0    500000    0.0   15      1  2018\n",
       "2     4.7    87510   8.7   5000000    0.0    1      8  2018\n",
       "3     4.5   215644  25.0  50000000    0.0    8      6  2018\n",
       "4     4.3      967   2.8    100000    0.0   20      6  2018"
      ]
     },
     "execution_count": 57,
     "metadata": {},
     "output_type": "execute_result"
    }
   ],
   "source": [
    "num_features=[col for col in df_random.columns if df_random[col].dtype!='O']\n",
    "num_df = df_random[num_features]\n",
    "num_df.head()"
   ]
  },
  {
   "cell_type": "code",
   "execution_count": 58,
   "id": "588b6c7a",
   "metadata": {},
   "outputs": [
    {
     "data": {
      "text/plain": [
       "Rating      0\n",
       "Reviews     0\n",
       "Size        0\n",
       "Installs    0\n",
       "Price       0\n",
       "Day         0\n",
       "Month       0\n",
       "Year        0\n",
       "dtype: int64"
      ]
     },
     "execution_count": 58,
     "metadata": {},
     "output_type": "execute_result"
    }
   ],
   "source": [
    "num_df.isna().sum()"
   ]
  },
  {
   "cell_type": "code",
   "execution_count": 25,
   "id": "a3111a9b",
   "metadata": {},
   "outputs": [],
   "source": [
    "df_random.to_csv('data/google_missing_imputed.csv', index = False)"
   ]
  }
 ],
 "metadata": {
  "kernelspec": {
   "display_name": "Python 3 (ipykernel)",
   "language": "python",
   "name": "python3"
  },
  "language_info": {
   "codemirror_mode": {
    "name": "ipython",
    "version": 3
   },
   "file_extension": ".py",
   "mimetype": "text/x-python",
   "name": "python",
   "nbconvert_exporter": "python",
   "pygments_lexer": "ipython3",
   "version": "3.10.9"
  }
 },
 "nbformat": 4,
 "nbformat_minor": 5
}
